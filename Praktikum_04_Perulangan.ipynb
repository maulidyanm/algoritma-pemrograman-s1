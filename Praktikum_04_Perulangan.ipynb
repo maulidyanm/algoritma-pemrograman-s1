{
  "nbformat": 4,
  "nbformat_minor": 0,
  "metadata": {
    "colab": {
      "provenance": [],
      "authorship_tag": "ABX9TyNDbOlEKF3qZ+KlM/yqxne2",
      "include_colab_link": true
    },
    "kernelspec": {
      "name": "python3",
      "display_name": "Python 3"
    },
    "language_info": {
      "name": "python"
    }
  },
  "cells": [
    {
      "cell_type": "markdown",
      "metadata": {
        "id": "view-in-github",
        "colab_type": "text"
      },
      "source": [
        "<a href=\"https://colab.research.google.com/github/maulidyanm/algoritma-pemrograman-s1/blob/main/Praktikum_04_Perulangan.ipynb\" target=\"_parent\"><img src=\"https://colab.research.google.com/assets/colab-badge.svg\" alt=\"Open In Colab\"/></a>"
      ]
    },
    {
      "cell_type": "markdown",
      "source": [
        "# Praktikum 01 - Perulangan For dengan Range"
      ],
      "metadata": {
        "id": "8i_DvABVe9Ss"
      }
    },
    {
      "cell_type": "code",
      "execution_count": null,
      "metadata": {
        "colab": {
          "base_uri": "https://localhost:8080/"
        },
        "id": "b5L9K7KQe4g2",
        "outputId": "e4bb13f3-d4b1-49c9-c080-b58f4fb2c3b1"
      },
      "outputs": [
        {
          "output_type": "stream",
          "name": "stdout",
          "text": [
            "1\n",
            "2\n",
            "3\n",
            "4\n"
          ]
        }
      ],
      "source": [
        "for i in range(1, 5):\n",
        "  print(i)"
      ]
    },
    {
      "cell_type": "markdown",
      "source": [
        "# Praktikum 02 - Perulangan While"
      ],
      "metadata": {
        "id": "xhjSqsNzhNah"
      }
    },
    {
      "cell_type": "code",
      "source": [
        "n = int(input(\"Masukkan angka: \"))\n",
        "while n > 0:\n",
        "    print(n)\n",
        "    n -= 1"
      ],
      "metadata": {
        "colab": {
          "base_uri": "https://localhost:8080/"
        },
        "id": "RDU2xisRjXF3",
        "outputId": "df5d0c1e-6a74-4438-c00a-692163febf39"
      },
      "execution_count": null,
      "outputs": [
        {
          "output_type": "stream",
          "name": "stdout",
          "text": [
            "Masukkan angka: 5\n",
            "5\n",
            "4\n",
            "3\n",
            "2\n",
            "1\n"
          ]
        }
      ]
    },
    {
      "cell_type": "markdown",
      "source": [
        "# Praktikum 03 - Nested Loop (Segitiga Bintang)"
      ],
      "metadata": {
        "id": "_OGUxBPpkATv"
      }
    },
    {
      "cell_type": "code",
      "source": [
        "for i in range(1, 5):\n",
        "  for j in range(i):\n",
        "    print(\"*\", end=\"\")\n",
        "  print()"
      ],
      "metadata": {
        "colab": {
          "base_uri": "https://localhost:8080/"
        },
        "id": "xIdJpK2EkGNu",
        "outputId": "10a9fd13-f69b-4210-b6b5-60f43523cc67"
      },
      "execution_count": null,
      "outputs": [
        {
          "output_type": "stream",
          "name": "stdout",
          "text": [
            "*\n",
            "**\n",
            "***\n",
            "****\n"
          ]
        }
      ]
    },
    {
      "cell_type": "markdown",
      "source": [
        "# Praktikum 04 - Break dan Continue"
      ],
      "metadata": {
        "id": "zt2OEAxakXhs"
      }
    },
    {
      "cell_type": "code",
      "source": [
        "for i in range(1, 10):\n",
        "  print(i)\n",
        "  if i == 5:\n",
        "    print(\"Angka 5 ditemukan\")\n",
        "    break"
      ],
      "metadata": {
        "colab": {
          "base_uri": "https://localhost:8080/"
        },
        "id": "NGBcNMlIkblK",
        "outputId": "ba2427a3-42bf-41d1-97a9-32af6e7a4a1f"
      },
      "execution_count": null,
      "outputs": [
        {
          "output_type": "stream",
          "name": "stdout",
          "text": [
            "1\n",
            "2\n",
            "3\n",
            "4\n",
            "5\n",
            "Angka 5 ditemukan\n"
          ]
        }
      ]
    },
    {
      "cell_type": "code",
      "source": [
        "for i in range(1, 5):\n",
        "  if i % 2 == 1:\n",
        "      continue\n",
        "  print(i)"
      ],
      "metadata": {
        "colab": {
          "base_uri": "https://localhost:8080/"
        },
        "id": "rZvt1V2np7aI",
        "outputId": "366ce1c3-14dc-434a-ae81-eb9285b8a5f3"
      },
      "execution_count": null,
      "outputs": [
        {
          "output_type": "stream",
          "name": "stdout",
          "text": [
            "2\n",
            "4\n"
          ]
        }
      ]
    },
    {
      "cell_type": "markdown",
      "source": [
        "# Praktikum 05 - For pada Dictionary"
      ],
      "metadata": {
        "id": "GxrspBQ2kqQ_"
      }
    },
    {
      "cell_type": "code",
      "source": [
        "data = {\"Nama\": \"Andi\", \"Umur\": 20, \"Prodi\": \"TRK\"}\n",
        "\n",
        "for k, v in data.items():\n",
        "  print(k, \":\", v)"
      ],
      "metadata": {
        "colab": {
          "base_uri": "https://localhost:8080/"
        },
        "id": "UBne03FAkvhJ",
        "outputId": "b775b654-d22e-4861-9a3b-a36741317a52"
      },
      "execution_count": null,
      "outputs": [
        {
          "output_type": "stream",
          "name": "stdout",
          "text": [
            "Nama : Andi\n",
            "Umur : 20\n",
            "Prodi : TRK\n"
          ]
        }
      ]
    },
    {
      "cell_type": "markdown",
      "source": [
        "# Praktikum 06 - For dengan Enumerate"
      ],
      "metadata": {
        "id": "e_uEH6e7lCVo"
      }
    },
    {
      "cell_type": "code",
      "source": [
        "daftar = {\"Andi\", \"Budi\", \"Cici\"}\n",
        "\n",
        "for i, nama in enumerate(daftar, start=1):\n",
        "  print(i, nama)"
      ],
      "metadata": {
        "colab": {
          "base_uri": "https://localhost:8080/"
        },
        "id": "zNkK8_ojlHDH",
        "outputId": "b509d432-d9ae-48b1-e843-2ce1d115fde6"
      },
      "execution_count": null,
      "outputs": [
        {
          "output_type": "stream",
          "name": "stdout",
          "text": [
            "1 Budi\n",
            "2 Cici\n",
            "3 Andi\n"
          ]
        }
      ]
    },
    {
      "cell_type": "markdown",
      "source": [
        "# Praktikum 07 - Studi Kasus: Program Kasir Multi Item"
      ],
      "metadata": {
        "id": "ySTsM-lZluHq"
      }
    },
    {
      "cell_type": "code",
      "source": [
        "total = 0\n",
        "\n",
        "while True:\n",
        "  barang = input(\"Masukkan nama barang (ketik 'selesai' untuk berhenti): \")\n",
        "\n",
        "  if barang.lower() == \"selesai\":\n",
        "    break\n",
        "\n",
        "  harga = float(input(f\"Masukkan harga {barang}: \"))\n",
        "  jumlah = int(input(f\"Masukkan jumlah {barang}: \"))\n",
        "  subtotal = harga * jumlah\n",
        "  total += subtotal\n",
        "\n",
        "print(\"\\n===== Struk Belanja =====\")\n",
        "print(f\"Total Belanja: Rp {total}\")"
      ],
      "metadata": {
        "colab": {
          "base_uri": "https://localhost:8080/"
        },
        "id": "XIb7ayHTlzb9",
        "outputId": "f0f79ee4-7aec-4bd3-e7d8-b7df5ec827f1"
      },
      "execution_count": null,
      "outputs": [
        {
          "output_type": "stream",
          "name": "stdout",
          "text": [
            "Masukkan nama barang (ketik 'selesai' untuk berhenti): buku\n",
            "Masukkan harga buku: 50000\n",
            "Masukkan jumlah buku: 2\n",
            "Masukkan nama barang (ketik 'selesai' untuk berhenti): pulpen\n",
            "Masukkan harga pulpen: 5000\n",
            "Masukkan jumlah pulpen: 3\n",
            "Masukkan nama barang (ketik 'selesai' untuk berhenti): selesai\n",
            "\n",
            "===== Struk Belanja =====\n",
            "Total Belanja: Rp 115000.0\n"
          ]
        }
      ]
    },
    {
      "cell_type": "markdown",
      "source": [
        "# Penugasan 01 - Menampilkan Deret Angka"
      ],
      "metadata": {
        "id": "tVWZFrm320HX"
      }
    },
    {
      "cell_type": "code",
      "source": [
        "for i in range(3, 31, 3):\n",
        "    print(i)"
      ],
      "metadata": {
        "colab": {
          "base_uri": "https://localhost:8080/"
        },
        "id": "SNMwNXxE23jX",
        "outputId": "e970ed1a-7477-476d-8558-602ad94207ec"
      },
      "execution_count": null,
      "outputs": [
        {
          "output_type": "stream",
          "name": "stdout",
          "text": [
            "3\n",
            "6\n",
            "9\n",
            "12\n",
            "15\n",
            "18\n",
            "21\n",
            "24\n",
            "27\n",
            "30\n"
          ]
        }
      ]
    },
    {
      "cell_type": "markdown",
      "source": [
        "# Penugasan 02 - Hitung Faktorial"
      ],
      "metadata": {
        "id": "t11gQoc34mer"
      }
    },
    {
      "cell_type": "code",
      "source": [
        "n = int(input(\"Masukkan bilangan: \"))\n",
        "faktorial = 1\n",
        "i = 1\n",
        "\n",
        "while i <= n:\n",
        "    faktorial *= i\n",
        "    i += 1\n",
        "\n",
        "print(\"Faktorial dari\", n, \"adalah\", faktorial)\n"
      ],
      "metadata": {
        "colab": {
          "base_uri": "https://localhost:8080/"
        },
        "id": "8fyXXyIy4sYV",
        "outputId": "2faa85fd-74aa-493c-9838-6fbafaa8f813"
      },
      "execution_count": null,
      "outputs": [
        {
          "output_type": "stream",
          "name": "stdout",
          "text": [
            "Masukkan bilangan: 5\n",
            "Faktorial dari 5 adalah 120\n"
          ]
        }
      ]
    },
    {
      "cell_type": "markdown",
      "source": [
        "# Penugasan 03 - Pola Segitiga Terbalik"
      ],
      "metadata": {
        "id": "7KyPsQw65Ojc"
      }
    },
    {
      "cell_type": "code",
      "source": [
        "for i in range(5, 0, -1):\n",
        "  for j in range(i):\n",
        "    print(\"*\", end=\"\")\n",
        "  print()"
      ],
      "metadata": {
        "colab": {
          "base_uri": "https://localhost:8080/"
        },
        "id": "uJbxxm7R5YB3",
        "outputId": "fd37fb9d-b031-43ac-8bb8-5f02eea87ccb"
      },
      "execution_count": null,
      "outputs": [
        {
          "output_type": "stream",
          "name": "stdout",
          "text": [
            "*****\n",
            "****\n",
            "***\n",
            "**\n",
            "*\n"
          ]
        }
      ]
    },
    {
      "cell_type": "markdown",
      "source": [
        "# Penugasan 04 - Bilangan Prima"
      ],
      "metadata": {
        "id": "nUrQ-M8Vwzrh"
      }
    },
    {
      "cell_type": "code",
      "source": [
        "angka = int(input(\"Masukkan bilangan: \"))\n",
        "\n",
        "if angka > 1:\n",
        "    for i in range(2, angka):\n",
        "        if angka % i == 0:\n",
        "            print(f\"{angka} bukan bilangan prima, karena habis dibagi {i}\")\n",
        "            break\n",
        "    else:\n",
        "        print(f\"{angka} adalah bilangan prima\")\n",
        "else:\n",
        "    print(f\"{angka} bukan bilangan prima\")\n"
      ],
      "metadata": {
        "colab": {
          "base_uri": "https://localhost:8080/"
        },
        "id": "p3iA5EZOw4_N",
        "outputId": "4772342a-c84a-4803-9f64-85f50cd5e605"
      },
      "execution_count": null,
      "outputs": [
        {
          "output_type": "stream",
          "name": "stdout",
          "text": [
            "Masukkan bilangan: 30\n",
            "30 bukan bilangan prima, karena habis dibagi 2\n"
          ]
        }
      ]
    },
    {
      "cell_type": "markdown",
      "source": [
        "# Penugasan 05 - Bilangan Genap"
      ],
      "metadata": {
        "id": "A9gKhlVzxMVn"
      }
    },
    {
      "cell_type": "code",
      "source": [
        "for i in range(1, 21):\n",
        "  if i % 2 == 1:\n",
        "      continue\n",
        "  print(i)"
      ],
      "metadata": {
        "colab": {
          "base_uri": "https://localhost:8080/"
        },
        "id": "1oA9m863xR7h",
        "outputId": "bb83e23b-f4b5-4151-d16d-2548a06dfec1"
      },
      "execution_count": null,
      "outputs": [
        {
          "output_type": "stream",
          "name": "stdout",
          "text": [
            "2\n",
            "4\n",
            "6\n",
            "8\n",
            "10\n",
            "12\n",
            "14\n",
            "16\n",
            "18\n",
            "20\n"
          ]
        }
      ]
    },
    {
      "cell_type": "markdown",
      "source": [
        "# Penugasan 06 - Dictionary Mahasiswa"
      ],
      "metadata": {
        "id": "U1wDACIXxbGa"
      }
    },
    {
      "cell_type": "code",
      "source": [
        "data = {\"Nama\": \"Budi\", \"Umur\": 21, \"Prodi\": \"Teknik Komputer\"}\n",
        "\n",
        "for k, v in data.items():\n",
        "  print(k, \":\", v)"
      ],
      "metadata": {
        "colab": {
          "base_uri": "https://localhost:8080/"
        },
        "id": "G-SkXmftxhcF",
        "outputId": "26ddb173-92d8-4888-beeb-3d3554b7d5b4"
      },
      "execution_count": null,
      "outputs": [
        {
          "output_type": "stream",
          "name": "stdout",
          "text": [
            "Nama : Budi\n",
            "Umur : 21\n",
            "Prodi : Teknik Komputer\n"
          ]
        }
      ]
    },
    {
      "cell_type": "markdown",
      "source": [
        "# Penugasan 07 - Enumerate Daftar Barang"
      ],
      "metadata": {
        "id": "a17V8NtdxuQc"
      }
    },
    {
      "cell_type": "code",
      "source": [
        "daftar = {\"Buku\", \"Pulpen\", \"Tas\"}\n",
        "\n",
        "for i, barang in enumerate(daftar, start=1):\n",
        "  print(i, barang)"
      ],
      "metadata": {
        "colab": {
          "base_uri": "https://localhost:8080/"
        },
        "id": "SBINjg1Hxzr6",
        "outputId": "9898f58a-d10c-4e63-8a06-412ab1a6806f"
      },
      "execution_count": null,
      "outputs": [
        {
          "output_type": "stream",
          "name": "stdout",
          "text": [
            "1 Pulpen\n",
            "2 Buku\n",
            "3 Tas\n"
          ]
        }
      ]
    },
    {
      "cell_type": "markdown",
      "source": [
        "# Penugasan 08 - Kasir Diskon"
      ],
      "metadata": {
        "id": "rS94SQhTycIl"
      }
    },
    {
      "cell_type": "code",
      "source": [
        "total = 0\n",
        "\n",
        "while True:\n",
        "  barang = input(\"Masukkan nama barang (ketik 'selesai' untuk berhenti): \")\n",
        "\n",
        "  if barang.lower() == \"selesai\":\n",
        "    break\n",
        "\n",
        "  harga = float(input(f\"Masukkan harga {barang}: \"))\n",
        "  jumlah = int(input(f\"Masukkan jumlah {barang}: \"))\n",
        "  subtotal = harga * jumlah\n",
        "  if subtotal >= 200000:\n",
        "      diskon = 0.1\n",
        "  else:\n",
        "      diskon = 0\n",
        "\n",
        "  total_diskon = subtotal * diskon\n",
        "  total += subtotal - total_diskon\n",
        "\n",
        "print(\"\\n===== Struk Belanja =====\")\n",
        "print(f\"Total Belanja: Rp {total}\")\n",
        "print(f\"Kamu mendapat diskon sebesar: {total_diskon}\")\n"
      ],
      "metadata": {
        "colab": {
          "base_uri": "https://localhost:8080/"
        },
        "id": "rFgbjD-Gyf5r",
        "outputId": "c6fa92b6-351f-4f0c-a794-ae530ea58d03"
      },
      "execution_count": null,
      "outputs": [
        {
          "output_type": "stream",
          "name": "stdout",
          "text": [
            "Masukkan nama barang (ketik 'selesai' untuk berhenti): tas\n",
            "Masukkan harga tas: 100000\n",
            "Masukkan jumlah tas: 3\n",
            "Masukkan nama barang (ketik 'selesai' untuk berhenti): selesai\n",
            "\n",
            "===== Struk Belanja =====\n",
            "Total Belanja: Rp 270000.0\n",
            "Kamu mendapat diskon sebesar: 30000.0\n"
          ]
        }
      ]
    }
  ]
}