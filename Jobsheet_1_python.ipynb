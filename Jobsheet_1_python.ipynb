{
  "nbformat": 4,
  "nbformat_minor": 0,
  "metadata": {
    "colab": {
      "provenance": [],
      "authorship_tag": "ABX9TyNQlwXTS6j6bP036fbs+BAg",
      "include_colab_link": true
    },
    "kernelspec": {
      "name": "python3",
      "display_name": "Python 3"
    },
    "language_info": {
      "name": "python"
    }
  },
  "cells": [
    {
      "cell_type": "markdown",
      "metadata": {
        "id": "view-in-github",
        "colab_type": "text"
      },
      "source": [
        "<a href=\"https://colab.research.google.com/github/maulidyanm/algoritma-pemrograman-s1/blob/main/Jobsheet_1_python.ipynb\" target=\"_parent\"><img src=\"https://colab.research.google.com/assets/colab-badge.svg\" alt=\"Open In Colab\"/></a>"
      ]
    },
    {
      "cell_type": "markdown",
      "source": [],
      "metadata": {
        "id": "61Ski062Qa54"
      }
    },
    {
      "cell_type": "markdown",
      "source": [
        "# Praktikum 01. Menghitung Luas Prersegi Panjang"
      ],
      "metadata": {
        "id": "wXWnM3NGQegY"
      }
    },
    {
      "cell_type": "code",
      "execution_count": null,
      "metadata": {
        "colab": {
          "base_uri": "https://localhost:8080/"
        },
        "id": "mHJt93-RO1bC",
        "outputId": "4d985117-0fbd-4e0f-cc10-9ad520450162"
      },
      "outputs": [
        {
          "output_type": "stream",
          "name": "stdout",
          "text": [
            "Masukkan panjang: 2\n",
            "Masukkan lebar: 10\n",
            "Luas persegi panjang adalah  20\n"
          ]
        }
      ],
      "source": [
        "p = int(input(\"Masukkan panjang: \"))\n",
        "l = int(input(\"Masukkan lebar: \"))\n",
        "luas = p * l\n",
        "print(\"Luas persegi panjang adalah \", luas)"
      ]
    },
    {
      "cell_type": "markdown",
      "source": [
        "# Praktikum 02. Menghitung Luas Segitiga (Rumus Heron)"
      ],
      "metadata": {
        "id": "Pq38vde0SjLc"
      }
    },
    {
      "cell_type": "code",
      "source": [
        "import math\n",
        "\n",
        "a = float(input(\"Masukkan sisi a: \"))\n",
        "b = float(input(\"Masukkan sisi b: \"))\n",
        "c = float(input(\"Masukkan sisi c: \"))\n",
        "\n",
        "s = (a + b + c) / 2\n",
        "luas = math.sqrt(s * (s-a) * (s-b) * (s-c))\n",
        "print(\"Luas segitiga adalah \", luas)"
      ],
      "metadata": {
        "colab": {
          "base_uri": "https://localhost:8080/"
        },
        "id": "p_XCfdrQRNGF",
        "outputId": "caa83e43-7d34-45a4-cdf2-de81cc52374e"
      },
      "execution_count": null,
      "outputs": [
        {
          "output_type": "stream",
          "name": "stdout",
          "text": [
            "Masukkan sisi a: 3\n",
            "Masukkan sisi b: 4\n",
            "Masukkan sisi c: 5\n",
            "Luas segitiga adalah  6.0\n"
          ]
        }
      ]
    },
    {
      "cell_type": "code",
      "source": [],
      "metadata": {
        "id": "iQ83Hq2zTaBI"
      },
      "execution_count": null,
      "outputs": []
    },
    {
      "cell_type": "markdown",
      "source": [
        "#Praktikum 03. Konversi Suhu Celcius ke Fahrenheit"
      ],
      "metadata": {
        "id": "IM-1a_srTdgW"
      }
    },
    {
      "cell_type": "code",
      "source": [
        "c = float(input(\"Masukkan suhu (°C): \"))\n",
        "f = (c * 9/5) + 32\n",
        "print(\"Hasil konversi: \", f, \"°F\")"
      ],
      "metadata": {
        "colab": {
          "base_uri": "https://localhost:8080/"
        },
        "id": "STCzzjK0TijL",
        "outputId": "6d325147-a9ff-4f10-b17b-2aa43f649b62"
      },
      "execution_count": null,
      "outputs": [
        {
          "output_type": "stream",
          "name": "stdout",
          "text": [
            "Masukkan suhu (°C): 20\n",
            "Hasil konversi:  68.0 °F\n"
          ]
        }
      ]
    },
    {
      "cell_type": "markdown",
      "source": [
        "# Praktikum 04. Menghitung Umur Berdasarkan Tahun Lahir"
      ],
      "metadata": {
        "id": "ASHTfPvBUDjm"
      }
    },
    {
      "cell_type": "code",
      "source": [
        "tahun_lahir = int(input(\"Masukkan tahun lahir: \"))\n",
        "tahun_sekarang = int(input(\"Masukkan tahun sekarang: \"))\n",
        "umur = tahun_sekarang - tahun_lahir\n",
        "print(\"Umur anda sekarang adalah\", umur, \"tahun\")"
      ],
      "metadata": {
        "colab": {
          "base_uri": "https://localhost:8080/"
        },
        "id": "wfv43nLcUAyc",
        "outputId": "02c77dc8-5ed8-4db9-9aab-34804bb1db6c"
      },
      "execution_count": null,
      "outputs": [
        {
          "output_type": "stream",
          "name": "stdout",
          "text": [
            "Masukkan tahun lahir: 1997\n",
            "Masukkan tahun sekarang: 2025\n",
            "Umur anda sekarang adalah 28 tahun\n"
          ]
        }
      ]
    },
    {
      "cell_type": "markdown",
      "source": [
        "# Praktikum 05. Menghitung Luas Ligkaran"
      ],
      "metadata": {
        "id": "qnUWhJMuU1lR"
      }
    },
    {
      "cell_type": "code",
      "source": [
        "import math\n",
        "r = float(input(\"Masukkan jari-jari lingkaran: \"))\n",
        "luas = math.pi * r * r\n",
        "print(\"Luas lingkaran adalah \", luas)"
      ],
      "metadata": {
        "colab": {
          "base_uri": "https://localhost:8080/"
        },
        "id": "YEz-kmLxUuZn",
        "outputId": "2bf832c8-77be-483f-e2c0-0f3f524f73ff"
      },
      "execution_count": null,
      "outputs": [
        {
          "output_type": "stream",
          "name": "stdout",
          "text": [
            "Masukkan jari-jari lingkaran: 7\n",
            "Luas lingkaran adalah  153.93804002589985\n"
          ]
        }
      ]
    },
    {
      "cell_type": "markdown",
      "source": [
        "# Praktikum 06. Menjumlahkan Tiga Bilangan"
      ],
      "metadata": {
        "id": "w0n7GINZVckl"
      }
    },
    {
      "cell_type": "code",
      "source": [
        "a = int(input(\"Masukkan nilai pertama: \"))\n",
        "b = int(input(\"Masukkan nilai kedua: \"))\n",
        "c = int(input(\"Masukkan nilai ketiga: \"))\n",
        "jumlah = a + b + c\n",
        "print(\"Jumlah ketiga bilangan adalah \", jumlah)"
      ],
      "metadata": {
        "colab": {
          "base_uri": "https://localhost:8080/"
        },
        "id": "TphlQgdpVLmP",
        "outputId": "a2509212-9cd6-414b-f9ad-6210feac0c5c"
      },
      "execution_count": null,
      "outputs": [
        {
          "output_type": "stream",
          "name": "stdout",
          "text": [
            "Masukkan nilai pertama: 10\n",
            "Masukkan nilai kedua: 20\n",
            "Masukkan nilai ketiga: 30\n",
            "Jumlah ketiga bilangan adalah  60\n"
          ]
        }
      ]
    },
    {
      "cell_type": "markdown",
      "source": [
        "# Penugasan 01. Menghitung Volume Balok"
      ],
      "metadata": {
        "id": "vJ0CpJZWWdQx"
      }
    },
    {
      "cell_type": "code",
      "source": [
        "p = float(input(\"Masukkan panjang balok: \"))\n",
        "l = float(input(\"Masukkan lebar balok: \"))\n",
        "t = float(input(\"Masukkan tinggi balok: \"))\n",
        "\n",
        "volum = p * l * t\n",
        "print(\"Volume balok adalah \", volum)"
      ],
      "metadata": {
        "colab": {
          "base_uri": "https://localhost:8080/"
        },
        "id": "43yi7XRvV59F",
        "outputId": "1ddaea47-7cd4-46f1-a8aa-660397e79ecd"
      },
      "execution_count": null,
      "outputs": [
        {
          "output_type": "stream",
          "name": "stdout",
          "text": [
            "Masukkan panjang balok: 20\n",
            "Masukkan lebar balok: 5\n",
            "Masukkan tinggi balok: 7\n",
            "Volume balok adalah  700.0\n"
          ]
        }
      ]
    },
    {
      "cell_type": "markdown",
      "source": [
        "# Penugasan 02. Konversi Waktu (Detik ke Jam:Menit:Detik)"
      ],
      "metadata": {
        "id": "VWakjaygodq4"
      }
    },
    {
      "cell_type": "code",
      "source": [
        "total_detik = int(input(\"Masukkan total detik: \"))\n",
        "jam = total_detik // 3600\n",
        "sisa = total_detik % 3600\n",
        "menit = sisa // 60\n",
        "detik = sisa % 60\n",
        "\n",
        "print(\"Hasil konversi waktunya adalah \", jam, \"jam\", menit, \"menit\", detik, \"detik\")"
      ],
      "metadata": {
        "colab": {
          "base_uri": "https://localhost:8080/"
        },
        "id": "JAw2Cka1looR",
        "outputId": "df71293d-8225-46e8-ec4f-9645cf4fbcdc"
      },
      "execution_count": null,
      "outputs": [
        {
          "output_type": "stream",
          "name": "stdout",
          "text": [
            "Masukkan total detik: 3600\n",
            "Hasil konversi waktunya adalah  1 jam 0 menit 0 detik\n"
          ]
        }
      ]
    },
    {
      "cell_type": "markdown",
      "source": [
        "# Penugasan 04. Rata-rata Nilai Tiga Mata Kuliah"
      ],
      "metadata": {
        "id": "lnAZ-eANCOvH"
      }
    },
    {
      "cell_type": "code",
      "source": [
        "nilai1 = float(input(\"Masukkan nilai pertama: \"))\n",
        "nilai2 = float(input(\"Masukkan nilai kedua: \"))\n",
        "nilai3 = float(input(\"Masukkan nilai ketiga: \"))\n",
        "\n",
        "rata_rata = (nilai1 + nilai2 + nilai3) / 3\n",
        "if rata_rata >= 60:\n",
        "  print(\"Lulus, rata-rata anda adalah \", rata_rata)\n",
        "else:\n",
        "  print(\"Tidak Lulus, rata-rata anda adalah \", rata_rata)"
      ],
      "metadata": {
        "id": "leAlEWK0u5wB",
        "colab": {
          "base_uri": "https://localhost:8080/"
        },
        "outputId": "c291df5a-f2d9-4930-ae0b-24c581b86f65"
      },
      "execution_count": null,
      "outputs": [
        {
          "output_type": "stream",
          "name": "stdout",
          "text": [
            "Masukkan nilai pertama: 90\n",
            "Masukkan nilai kedua: 95.2\n",
            "Masukkan nilai ketiga: 92\n",
            "Lulus, rata-rata anda adalah  92.39999999999999\n"
          ]
        }
      ]
    },
    {
      "cell_type": "markdown",
      "source": [
        "# Penugasan 05. Menghitung Diskon Belanja"
      ],
      "metadata": {
        "id": "T9wALDlaNkIB"
      }
    },
    {
      "cell_type": "code",
      "source": [
        "harga_belanja = float(input(\"Masukkan harga belanja: \"))\n",
        "\n",
        "if harga_belanja >= 500000:\n",
        "  diskon = 0.2 * harga_belanja\n",
        "elif harga_belanja >= 2500000:\n",
        "  diskon = 0.1 * harga_belanja\n",
        "else:\n",
        "  diskon = 0\n",
        "\n",
        "total_bayar = harga_belanja - diskon\n",
        "print(\"Total belanja anda \", harga_belanja)\n",
        "print(\"diskon: \", diskon)\n",
        "print(\"Total belanjaan anda setelah adalah \", total_bayar)"
      ],
      "metadata": {
        "colab": {
          "base_uri": "https://localhost:8080/"
        },
        "id": "j4lBZ3kkC9ss",
        "outputId": "0173d49b-e198-4455-f906-40feba369436"
      },
      "execution_count": null,
      "outputs": [
        {
          "output_type": "stream",
          "name": "stdout",
          "text": [
            "Masukkan harga belanja: 650000\n",
            "Total belanja anda  650000.0\n",
            "diskon:  130000.0\n",
            "Total belanjaan anda setelah adalah  520000.0\n"
          ]
        }
      ]
    },
    {
      "cell_type": "code",
      "source": [],
      "metadata": {
        "id": "1WMmruQxOzxw"
      },
      "execution_count": null,
      "outputs": []
    }
  ]
}