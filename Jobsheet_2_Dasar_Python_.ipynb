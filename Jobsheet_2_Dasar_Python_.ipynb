{
  "nbformat": 4,
  "nbformat_minor": 0,
  "metadata": {
    "colab": {
      "provenance": [],
      "authorship_tag": "ABX9TyNMjNTggiSpRoOAlSat+N57",
      "include_colab_link": true
    },
    "kernelspec": {
      "name": "python3",
      "display_name": "Python 3"
    },
    "language_info": {
      "name": "python"
    }
  },
  "cells": [
    {
      "cell_type": "markdown",
      "metadata": {
        "id": "view-in-github",
        "colab_type": "text"
      },
      "source": [
        "<a href=\"https://colab.research.google.com/github/maulidyanm/algoritma-pemrograman-s1/blob/main/Jobsheet_2_Dasar_Python_.ipynb\" target=\"_parent\"><img src=\"https://colab.research.google.com/assets/colab-badge.svg\" alt=\"Open In Colab\"/></a>"
      ]
    },
    {
      "cell_type": "markdown",
      "source": [
        " # Praktikum 01 - Pengenalan Variabel dan Tipe Data"
      ],
      "metadata": {
        "id": "rgvg2mUMnNwx"
      }
    },
    {
      "cell_type": "code",
      "execution_count": null,
      "metadata": {
        "colab": {
          "base_uri": "https://localhost:8080/"
        },
        "id": "a-ydCybslfqN",
        "outputId": "aca2cf65-8e99-4053-ce89-bcaf8ab3ca31"
      },
      "outputs": [
        {
          "output_type": "stream",
          "name": "stdout",
          "text": [
            "Umur:  20 - <class 'int'>\n",
            "Tinggi:  170.5 - <class 'float'>\n",
            "Nama:  Andi - <class 'str'>\n",
            "Status Mahasiswa:  True - <class 'bool'>\n",
            "Nilai:  [80, 85, 90] - <class 'list'>\n",
            "Koordinat:  (10, 20) - <class 'tuple'>\n",
            "Data Mahasiswa: {'nama': 'Andi', 'umur': 20, 'prodi': 'TRK'} - <class 'dict'>\n",
            "Hobi: ('Membaca', 'Olahraga', 'Memasak') - <class 'tuple'>\n"
          ]
        }
      ],
      "source": [
        "# integer\n",
        "umur = 20\n",
        "print(\"Umur: \", umur, \"-\", type(umur))\n",
        "\n",
        "#float\n",
        "tinggi = 170.5\n",
        "print(\"Tinggi: \", tinggi, \"-\", type(tinggi))\n",
        "\n",
        "#string\n",
        "nama = \"Andi\"\n",
        "print(\"Nama: \", nama, \"-\", type(nama))\n",
        "\n",
        "#boolean\n",
        "is_mahasiswa = True\n",
        "print(\"Status Mahasiswa: \", is_mahasiswa, \"-\", type(is_mahasiswa))\n",
        "\n",
        "#list\n",
        "nilai = [80, 85, 90]\n",
        "print(\"Nilai: \", nilai, \"-\", type(nilai))\n",
        "\n",
        "#tuple\n",
        "koordinat = (10, 20)\n",
        "print(\"Koordinat: \", koordinat, \"-\", type(koordinat))\n",
        "\n",
        "#dictionary\n",
        "mahasiswa = {\"nama\": \"Andi\", \"umur\": 20, \"prodi\": \"TRK\"}\n",
        "print(\"Data Mahasiswa:\", mahasiswa, \"-\", type(mahasiswa))\n",
        "\n",
        "#set\n",
        "hobi = (\"Membaca\", \"Olahraga\", \"Memasak\")\n",
        "print(\"Hobi:\", hobi, \"-\", type(hobi))"
      ]
    },
    {
      "cell_type": "markdown",
      "source": [
        "# Praktikum 02 - Input dan Output Dasar"
      ],
      "metadata": {
        "id": "nP_sKU6GylqI"
      }
    },
    {
      "cell_type": "code",
      "source": [
        "# string\n",
        "nama = input(\"Masukkan nama anda: \")\n",
        "\n",
        "#integer\n",
        "umur = int(input(\"Masukkan umur anda: \"))\n",
        "\n",
        "#float\n",
        "tinggi = float(input(\"Masukkan tinggi badan (cm): \"))\n",
        "\n",
        "#Output Standar\n",
        "print(\"Halo,\", nama, \"umur anda: \", umur, \"tahun, tinggi: \", tinggi, \"cm\")\n",
        "\n",
        "#Output dengan format ()\n",
        "print(\"Halo {0}, umur anda {1} tahun, tinggi {2} cm\".format(nama, umur, tinggi))\n",
        "\n",
        "#Output dengan f-string\n",
        "print(f\"Halo {nama}, umur anda {umur} tahun, tinggi {tinggi} cm\")"
      ],
      "metadata": {
        "colab": {
          "base_uri": "https://localhost:8080/"
        },
        "id": "UiN6X-lDyiH8",
        "outputId": "1152706d-3481-4579-eb33-17e91cf13a6a"
      },
      "execution_count": null,
      "outputs": [
        {
          "output_type": "stream",
          "name": "stdout",
          "text": [
            "Masukkan nama anda: maulidya\n",
            "Masukkan umur anda: 18\n",
            "Masukkan tinggi badan (cm): 159\n",
            "Halo, maulidya umur anda:  18 tahun, tinggi:  159.0 cm\n",
            "Halo maulidya, umur anda 18 tahun, tinggi 159.0 cm\n",
            "Halo maulidya, umur anda 18 tahun, tinggi 159.0 cm\n"
          ]
        }
      ]
    },
    {
      "cell_type": "markdown",
      "source": [
        "# Praktikum 03 - Operator Artimetika"
      ],
      "metadata": {
        "id": "f4KKFQRjylsw"
      }
    },
    {
      "cell_type": "code",
      "source": [
        "a = 15\n",
        "b = 4\n",
        "\n",
        "print(\"a + b = \", a + b)\n",
        "print(\"a - b = \", a - b)\n",
        "print(\"a * b = \", a * b)\n",
        "print(\"a / b = \", a / b)\n",
        "print(\"a // b = \", a // b)\n",
        "print(\"a % b = \", a % b)\n",
        "print(\"a ** b = \", a ** b)"
      ],
      "metadata": {
        "colab": {
          "base_uri": "https://localhost:8080/"
        },
        "id": "Sr5I6Zotyszt",
        "outputId": "75aba9e3-99a5-4f9a-a44c-2ffd02430730"
      },
      "execution_count": null,
      "outputs": [
        {
          "output_type": "stream",
          "name": "stdout",
          "text": [
            "a + b =  19\n",
            "a - b =  11\n",
            "a * b =  60\n",
            "a / b =  3.75\n",
            "a // b =  3\n",
            "a % b =  3\n",
            "a ** b =  50625\n"
          ]
        }
      ]
    },
    {
      "cell_type": "markdown",
      "source": [
        "# Praktikum 04 - Operator Relasional"
      ],
      "metadata": {
        "id": "oDY4IuDwz_Go"
      }
    },
    {
      "cell_type": "code",
      "source": [
        "x = 10\n",
        "y = 20\n",
        "\n",
        "print(\"x == y : \", x == y)\n",
        "print(\"x != y : \", x != y)\n",
        "print(\"x < y : \", x < y)\n",
        "print(\"x > y : \", x > y)\n",
        "print(\"x <= y : \", x <= y)\n",
        "print(\"x >= y : \", x >= y)\n"
      ],
      "metadata": {
        "colab": {
          "base_uri": "https://localhost:8080/"
        },
        "id": "hZpiEqeI0Exq",
        "outputId": "7116bf14-3b1e-469f-a647-fba1e04eed61"
      },
      "execution_count": null,
      "outputs": [
        {
          "output_type": "stream",
          "name": "stdout",
          "text": [
            "x == y :  False\n",
            "x != y :  True\n",
            "x < y :  True\n",
            "x > y :  False\n",
            "x <= y :  True\n",
            "x >= y :  False\n"
          ]
        }
      ]
    },
    {
      "cell_type": "markdown",
      "source": [
        "# Praktikum 05 - Operator Logika dengan Studi Kasus Nyata"
      ],
      "metadata": {
        "id": "d34P6Mbg0xgI"
      }
    },
    {
      "cell_type": "code",
      "source": [
        "#dasar\n",
        "a = True\n",
        "b = False\n",
        "\n",
        "print(\"a and b = \", a and b)\n",
        "print(\"a or b = \", a or b)\n",
        "print(\"not a = \", not a)\n",
        "\n",
        "#kasus nyata\n",
        "nilai = int(input(\"Masukkan nilai ujian : \"))\n",
        "hadir = int(input(\"Masukkan jumlah kehadiran : \"))\n",
        "\n",
        "lulus_nilai = nilai >= 60\n",
        "lulus_hadir = hadir >= 12 # dari 16 pertemuan\n",
        "\n",
        "if lulus_nilai and lulus_hadir:\n",
        "  print(\"Status: LULUS\")\n",
        "else:\n",
        "  print(\"Status: TIDAK LULUS\")"
      ],
      "metadata": {
        "colab": {
          "base_uri": "https://localhost:8080/"
        },
        "id": "ZVBe8ulR04Sp",
        "outputId": "7e46eea9-35e4-45b8-e62c-18f4dc948ca5"
      },
      "execution_count": null,
      "outputs": [
        {
          "output_type": "stream",
          "name": "stdout",
          "text": [
            "a and b =  False\n",
            "a or b =  True\n",
            "not a =  False\n",
            "Masukkan nilai ujian : 56\n",
            "Masukkan jumlah kehadiran : 10\n",
            "Status: TIDAK LULUS\n"
          ]
        }
      ]
    },
    {
      "cell_type": "markdown",
      "source": [
        "# Praktikum 06 - Program Kasir Sederhana"
      ],
      "metadata": {
        "id": "6YoVmwnY19fm"
      }
    },
    {
      "cell_type": "code",
      "source": [
        "barang = input(\"Masukkan nama barang: \")\n",
        "harga = float(input(\"Masukkan harga barang: \"))\n",
        "jumlah = int(input(\"Masukkan jumlah barang: \"))\n",
        "\n",
        "total = harga * jumlah\n",
        "\n",
        "#aturan diskon\n",
        "if total >= 500000:\n",
        "  diskon = 0.2\n",
        "elif total >= 250000:\n",
        "  diskon = 0.1\n",
        "else:\n",
        "  diskon = 0\n",
        "\n",
        "potongan = total * diskon\n",
        "bayar = total - potongan\n",
        "\n",
        "print(\"\\n====== Struk Belanja =====\")\n",
        "print(f\"Barang: {barang}\")\n",
        "print(f\"Jumlah: {jumlah}\")\n",
        "print(f\"Total: Rp {total}\")\n",
        "print(f\"Diskon: {diskon * 100} %\")\n",
        "print(f\"Bayar: Rp {bayar}\")"
      ],
      "metadata": {
        "colab": {
          "base_uri": "https://localhost:8080/"
        },
        "id": "k5tSQpJ62FZM",
        "outputId": "acceda79-da86-411f-86c4-603d69bda7af"
      },
      "execution_count": null,
      "outputs": [
        {
          "output_type": "stream",
          "name": "stdout",
          "text": [
            "Masukkan nama barang: sarung tangan\n",
            "Masukkan harga barang: 12000\n",
            "Masukkan jumlah barang: 100\n",
            "\n",
            "====== Struk Belanja =====\n",
            "Barang: sarung tangan\n",
            "Jumlah: 100\n",
            "Total: Rp 1200000.0\n",
            "Diskon: 20.0 %\n",
            "Bayar: Rp 960000.0\n"
          ]
        }
      ]
    },
    {
      "cell_type": "markdown",
      "source": [
        "# Penugasan 01 - Identitas Mahasiswa"
      ],
      "metadata": {
        "id": "W8r4VHGitMq-"
      }
    },
    {
      "cell_type": "code",
      "source": [
        "nama = \"Maulidya Nurul Muharromah\"\n",
        "umur = 18\n",
        "tinggi = 159.0\n",
        "status = True\n",
        "\n",
        "print(\"====== Data Mahasiswa ======\")\n",
        "print(f\"Nama mahasiswa: {nama}\")\n",
        "print(f\"Umur mahasiswa: {umur} tahun\")\n",
        "print(f\"Tinggi mahasiswa: {tinggi} cm\")\n",
        "print(f\"Status Mahasiswa: {status}\")"
      ],
      "metadata": {
        "colab": {
          "base_uri": "https://localhost:8080/"
        },
        "id": "0DJiqGiJtSmH",
        "outputId": "1ad00977-abc7-4d49-8d81-f148e75dc65a"
      },
      "execution_count": null,
      "outputs": [
        {
          "output_type": "stream",
          "name": "stdout",
          "text": [
            "====== Data Mahasiswa ======\n",
            "Nama mahasiswa: Maulidya Nurul Muharromah\n",
            "Umur mahasiswa: 18 tahun\n",
            "Tinggi mahasiswa: 159.0 cm\n",
            "Status Mahasiswa: True\n"
          ]
        }
      ]
    },
    {
      "cell_type": "markdown",
      "source": [
        "# Penugasan 02 - Operasi Aritmetika"
      ],
      "metadata": {
        "id": "UgArODPYuQfd"
      }
    },
    {
      "cell_type": "code",
      "source": [
        "a = int(input(\"Masukkan bilangan pertama: \"))\n",
        "b = int(input(\"Masukkan bilangan kedua: \"))\n",
        "\n",
        "#operasi\n",
        "penjumlahan = a + b\n",
        "pengurangan = a - b\n",
        "perkalian = a * b\n",
        "pembagian = a / b\n",
        "sisa_bagi = a % b\n",
        "pangkat = a ** b\n",
        "\n",
        "print(\"\\n====== Hasil Operasi ======\")\n",
        "print(\"Hasil penjumlahan kedua bilangan adalah \", penjumlahan)\n",
        "print(\"Hasil pengurangan kedua bilangan adalah \", pengurangan)\n",
        "print(\"Hasil perkalian kedua bilangan adalah \", perkalian)\n",
        "print(\"Hasil pembagian kedua bilangan adalah \", pembagian)\n",
        "print(\"Hasil sisa bagi dari kedua bilangan adalah \", sisa_bagi)\n",
        "print(\"Hasil perpangkatan dari kedua bilangan adalah \", pangkat)"
      ],
      "metadata": {
        "colab": {
          "base_uri": "https://localhost:8080/"
        },
        "id": "bn_mu6TuuVVi",
        "outputId": "8ebf22c8-15cd-46ce-e8dd-a4b8ccd742c1"
      },
      "execution_count": null,
      "outputs": [
        {
          "output_type": "stream",
          "name": "stdout",
          "text": [
            "Masukkan bilangan pertama: 8\n",
            "Masukkan bilangan kedua: 2\n",
            "\n",
            "====== Hasil Operasi ======\n",
            "Hasil penjumlahan kedua bilangan adalah  10\n",
            "Hasil pengurangan kedua bilangan adalah  6\n",
            "Hasil perkalian kedua bilangan adalah  16\n",
            "Hasil pembagian kedua bilangan adalah  4.0\n",
            "Hasil sisa bagi dari kedua bilangan adalah  0\n",
            "Hasil perpangkatan dari kedua bilangan adalah  64\n"
          ]
        }
      ]
    },
    {
      "cell_type": "markdown",
      "source": [
        "# Penugasan 03 - Konversi Nilai"
      ],
      "metadata": {
        "id": "mjmu5zfSv_Re"
      }
    },
    {
      "cell_type": "code",
      "source": [
        "angka = float(input(\"Masukkan bilangan desimal: \"))\n",
        "\n",
        "print(\"Bilangan bulatnya adalah \", int(angka))\n",
        "print(\"Bilangan \", str(angka))\n",
        "print(\"Bilangan \", round(angka))"
      ],
      "metadata": {
        "colab": {
          "base_uri": "https://localhost:8080/"
        },
        "id": "EAT2r5LpwE-o",
        "outputId": "3faa84e9-3fe9-42e9-9536-a13ba51cb141"
      },
      "execution_count": null,
      "outputs": [
        {
          "output_type": "stream",
          "name": "stdout",
          "text": [
            "Masukkan bilangan desimal: 12.54\n",
            "Bilangan bulatnya adalah  12\n",
            "Bilangan  12.54\n",
            "Bilangan  13\n"
          ]
        }
      ]
    },
    {
      "cell_type": "markdown",
      "source": [
        "# Penugasan 04 - Operator Rasional"
      ],
      "metadata": {
        "id": "tZEEvbs_yHlF"
      }
    },
    {
      "cell_type": "code",
      "source": [
        "m = float(input(\"Masukkan bilangan pertama: \"))\n",
        "n = float(input(\"Masukkan bilangan kedua: \"))\n",
        "\n",
        "sama_dengan = m == n\n",
        "tidak_sama = m != n\n",
        "lebih_kecil = m < n\n",
        "lebih_besar = m > n\n",
        "kecil_sama = m <= n\n",
        "besar_sama = m >= n\n",
        "\n",
        "print(\"Apakah m dan n sama? \", sama_dengan)\n",
        "print(\"Apakah m dan n tidak sama? \", tidak_sama)\n",
        "print(\"Apakah m lebih kecil dari n? \", lebih_kecil)\n",
        "print(\"Apakah m lebih besar dari n? \", lebih_besar)\n",
        "print(\"Apakah m lebih kecil atau sama dengan n? \", kecil_sama)\n",
        "print(\"Apakah m lebih besar atau sama dengan n? \", besar_sama)"
      ],
      "metadata": {
        "colab": {
          "base_uri": "https://localhost:8080/"
        },
        "id": "KpvHO_VfyLWN",
        "outputId": "46018777-8877-4eff-ddba-e885739b6f8f"
      },
      "execution_count": null,
      "outputs": [
        {
          "output_type": "stream",
          "name": "stdout",
          "text": [
            "Masukkan bilangan pertama: 15\n",
            "Masukkan bilangan kedua: 15\n",
            "Apakah m dan n sama?  True\n",
            "Apakah m dan n tidak sama?  False\n",
            "Apakah m lebih kecil dari n?  False\n",
            "Apakah m lebih besar dari n?  False\n",
            "Apakah m lebih kecil atau sama dengan n?  True\n",
            "Apakah m lebih besar atau sama dengan n?  True\n"
          ]
        }
      ]
    }
  ]
}