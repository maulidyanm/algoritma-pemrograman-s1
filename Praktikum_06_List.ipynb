{
  "nbformat": 4,
  "nbformat_minor": 0,
  "metadata": {
    "colab": {
      "provenance": [],
      "authorship_tag": "ABX9TyOg1QSjV8HwaUdMBRQBq2+G",
      "include_colab_link": true
    },
    "kernelspec": {
      "name": "python3",
      "display_name": "Python 3"
    },
    "language_info": {
      "name": "python"
    }
  },
  "cells": [
    {
      "cell_type": "markdown",
      "metadata": {
        "id": "view-in-github",
        "colab_type": "text"
      },
      "source": [
        "<a href=\"https://colab.research.google.com/github/maulidyanm/algoritma-pemrograman-s1/blob/main/Praktikum_06_List.ipynb\" target=\"_parent\"><img src=\"https://colab.research.google.com/assets/colab-badge.svg\" alt=\"Open In Colab\"/></a>"
      ]
    },
    {
      "cell_type": "markdown",
      "source": [
        "# Praktikum 01 - Membuat dan Mengakses List 1D"
      ],
      "metadata": {
        "id": "7hBQirs_CBhw"
      }
    },
    {
      "cell_type": "code",
      "execution_count": null,
      "metadata": {
        "colab": {
          "base_uri": "https://localhost:8080/"
        },
        "id": "DurSub7jB3iB",
        "outputId": "ada6c3b7-88f5-4edc-89a4-18d33b71162e"
      },
      "outputs": [
        {
          "output_type": "stream",
          "name": "stdout",
          "text": [
            "Andi\n",
            "Budi\n",
            "Cici\n"
          ]
        }
      ],
      "source": [
        "mahasiswa = [\"Andi\", \"Budi\", \"Cici\"]\n",
        "\n",
        "print(mahasiswa[0])\n",
        "print(mahasiswa[1])\n",
        "print(mahasiswa[-1])"
      ]
    },
    {
      "cell_type": "markdown",
      "source": [
        "# Praktikum 02 - Update dan Operasi Dasar"
      ],
      "metadata": {
        "id": "ecffxdoACq81"
      }
    },
    {
      "cell_type": "code",
      "source": [
        "nilai = [85, 90, 78]\n",
        "nilai [1] = 95\n",
        "\n",
        "nilai.append(100)\n",
        "nilai.remove(78)\n",
        "print(nilai)"
      ],
      "metadata": {
        "colab": {
          "base_uri": "https://localhost:8080/"
        },
        "id": "3XIGeWufCuD-",
        "outputId": "ac2f87b6-8774-4dd9-8b4e-976c06d74816"
      },
      "execution_count": null,
      "outputs": [
        {
          "output_type": "stream",
          "name": "stdout",
          "text": [
            "[85, 95, 100]\n"
          ]
        }
      ]
    },
    {
      "cell_type": "markdown",
      "source": [
        "# Praktikum 03 - Slicing List"
      ],
      "metadata": {
        "id": "tY6JSN3HC-j6"
      }
    },
    {
      "cell_type": "code",
      "source": [
        "nilai = [85, 90, 78, 92, 88]\n",
        "\n",
        "print(nilai [0:3])\n",
        "print(nilai [2:])\n",
        "print(nilai [:3])"
      ],
      "metadata": {
        "colab": {
          "base_uri": "https://localhost:8080/"
        },
        "id": "Ws6aBd-2DB4F",
        "outputId": "032dd88e-a2ef-4076-c6c0-f4653a73310c"
      },
      "execution_count": null,
      "outputs": [
        {
          "output_type": "stream",
          "name": "stdout",
          "text": [
            "[85, 90, 78]\n",
            "[78, 92, 88]\n",
            "[85, 90, 78]\n"
          ]
        }
      ]
    },
    {
      "cell_type": "markdown",
      "source": [
        "# Praktikum 04 - List 2D (Matriks)"
      ],
      "metadata": {
        "id": "aW5W3hvIDZ-C"
      }
    },
    {
      "cell_type": "code",
      "source": [
        "matriks = [\n",
        "    [1, 2, 3],\n",
        "    [4, 5, 6],\n",
        "    [7, 8, 9]\n",
        "]\n",
        "\n",
        "print(matriks [0][0])\n",
        "print(matriks [1][2])\n",
        "print(matriks [2])"
      ],
      "metadata": {
        "colab": {
          "base_uri": "https://localhost:8080/"
        },
        "id": "_28Jfi8rDeNb",
        "outputId": "6e140673-9599-451c-d5f5-ce18e1beb02c"
      },
      "execution_count": null,
      "outputs": [
        {
          "output_type": "stream",
          "name": "stdout",
          "text": [
            "1\n",
            "6\n",
            "[7, 8, 9]\n"
          ]
        }
      ]
    },
    {
      "cell_type": "markdown",
      "source": [
        "# Praktikum 05 - Operasi Pada List 2D"
      ],
      "metadata": {
        "id": "uOeSu7xjD6yl"
      }
    },
    {
      "cell_type": "code",
      "source": [
        "A = [[1, 2, 3], [4, 5, 6]]\n",
        "B = [[7, 8, 9], [10, 11, 12]]\n",
        "C = []\n",
        "\n",
        "for i in range (len(A)):\n",
        "  baris = []\n",
        "  for j in range (len(A[0])):\n",
        "      baris.append(A[i] [j] + B[i][j])\n",
        "  C.append(baris)\n",
        "\n",
        "print(C)"
      ],
      "metadata": {
        "colab": {
          "base_uri": "https://localhost:8080/"
        },
        "id": "5EfRT0TCD9gK",
        "outputId": "0d86db47-f0e3-4336-dae7-4434e1ee6d79"
      },
      "execution_count": null,
      "outputs": [
        {
          "output_type": "stream",
          "name": "stdout",
          "text": [
            "[[8, 10, 12], [14, 16, 18]]\n"
          ]
        }
      ]
    },
    {
      "cell_type": "markdown",
      "source": [
        "# Praktikum 06 - Pengelolaan Nilai Mahasiswa"
      ],
      "metadata": {
        "id": "_oKvtp6fEzMN"
      }
    },
    {
      "cell_type": "code",
      "source": [
        "nilai = [\n",
        "    [80, 90, 85],\n",
        "    [70, 75, 80],\n",
        "    [88, 92, 84]\n",
        "]\n",
        "\n",
        "for i, baris in enumerate(nilai, start=1):\n",
        "  rata = sum(baris) / len(baris)\n",
        "  print(f\"Rata-rata mahasiswa {i}: {rata:.2f}\")"
      ],
      "metadata": {
        "colab": {
          "base_uri": "https://localhost:8080/"
        },
        "id": "_L1kwu-rE2FN",
        "outputId": "336e09e8-3f46-46a7-8e84-3deb190a0774"
      },
      "execution_count": null,
      "outputs": [
        {
          "output_type": "stream",
          "name": "stdout",
          "text": [
            "Rata-rata mahasiswa 1: 85.00\n",
            "Rata-rata mahasiswa 2: 75.00\n",
            "Rata-rata mahasiswa 3: 88.00\n"
          ]
        }
      ]
    },
    {
      "cell_type": "markdown",
      "source": [
        "# Penugasan 01 - Akses Elemen List"
      ],
      "metadata": {
        "id": "GUbkwBXRyAXl"
      }
    },
    {
      "cell_type": "code",
      "source": [
        "mahasiswa = [\"Andi\", \"Budi\", \"Lisa\", \"Sari\", \"Ari\"]\n",
        "\n",
        "print(mahasiswa[0])\n",
        "print(mahasiswa[-1])\n",
        "print(mahasiswa[1])"
      ],
      "metadata": {
        "colab": {
          "base_uri": "https://localhost:8080/"
        },
        "id": "v-wBBOUGyD6m",
        "outputId": "ba130abd-530f-4551-cf5d-38702715479c"
      },
      "execution_count": null,
      "outputs": [
        {
          "output_type": "stream",
          "name": "stdout",
          "text": [
            "Andi\n",
            "Ari\n",
            "Budi\n"
          ]
        }
      ]
    },
    {
      "cell_type": "markdown",
      "source": [
        "# Penugasan 02 - Operasi Dasar List"
      ],
      "metadata": {
        "id": "4_gbqkmMyq95"
      }
    },
    {
      "cell_type": "code",
      "source": [
        "nilai = [70, 75, 80]\n",
        "nilai [1] = 85\n",
        "\n",
        "nilai.append(90)\n",
        "nilai.remove(70)\n",
        "print(nilai)"
      ],
      "metadata": {
        "colab": {
          "base_uri": "https://localhost:8080/"
        },
        "id": "ACUBhiL1ytfJ",
        "outputId": "b9416ce8-1d19-41b3-a867-b835c3ce254f"
      },
      "execution_count": null,
      "outputs": [
        {
          "output_type": "stream",
          "name": "stdout",
          "text": [
            "[85, 80, 90]\n"
          ]
        }
      ]
    },
    {
      "cell_type": "markdown",
      "source": [
        "# Penugasan 03 - Slicing List"
      ],
      "metadata": {
        "id": "xEKyYIi60ISx"
      }
    },
    {
      "cell_type": "code",
      "source": [
        "angka = [1, 2, 3, 4, 5, 6, 7, 8, 9, 10]\n",
        "\n",
        "print(f\"3 elemen pertama {angka [0:3]}\")\n",
        "print(f\"4 elemen terakhir {angka [6:]}\")\n",
        "print(f\"Elemen dengan indeks genap {angka [::2]}\")"
      ],
      "metadata": {
        "colab": {
          "base_uri": "https://localhost:8080/"
        },
        "id": "y270ix5Z0KmJ",
        "outputId": "8db740eb-49e8-43c9-9da2-ad050eb0c89b"
      },
      "execution_count": null,
      "outputs": [
        {
          "output_type": "stream",
          "name": "stdout",
          "text": [
            "3 elemen pertama [1, 2, 3]\n",
            "4 elemen terakhir [7, 8, 9, 10]\n",
            "Elemen dengan indeks genap [1, 3, 5, 7, 9]\n"
          ]
        }
      ]
    },
    {
      "cell_type": "markdown",
      "source": [
        "# Penugasan 04 - List 2D ~ Matriks"
      ],
      "metadata": {
        "id": "48zxjNFj1scQ"
      }
    },
    {
      "cell_type": "code",
      "source": [
        "matriks = [\n",
        "    [1, 2, 3],\n",
        "    [4, 5, 6],\n",
        "]\n",
        "\n",
        "print(matriks [0][1])\n",
        "print(matriks [1][2])\n",
        "print(matriks [0])"
      ],
      "metadata": {
        "colab": {
          "base_uri": "https://localhost:8080/"
        },
        "id": "9l4Teg4E1xUi",
        "outputId": "85503df1-2978-4c63-9ef4-c83fd0fbfdb4"
      },
      "execution_count": null,
      "outputs": [
        {
          "output_type": "stream",
          "name": "stdout",
          "text": [
            "2\n",
            "6\n",
            "[1, 2, 3]\n"
          ]
        }
      ]
    },
    {
      "cell_type": "markdown",
      "source": [
        "# Penugasan 05 - Operasi Matriks 2D"
      ],
      "metadata": {
        "id": "Cxaieexz2kcW"
      }
    },
    {
      "cell_type": "code",
      "source": [
        "A = [[2, 6, 8], [1, 3, 5]]\n",
        "B = [[4, 8, 9], [11, 12, 10]]\n",
        "C = []\n",
        "\n",
        "for i in range (len(A)):\n",
        "  baris = []\n",
        "  for j in range (len(A[0])):\n",
        "      baris.append(A[i] [j] + B[i][j])\n",
        "  C.append(baris)\n",
        "\n",
        "print(C)"
      ],
      "metadata": {
        "colab": {
          "base_uri": "https://localhost:8080/"
        },
        "id": "OZapXRx22oWf",
        "outputId": "0230e583-980a-4dc4-bd25-050b151b43d8"
      },
      "execution_count": null,
      "outputs": [
        {
          "output_type": "stream",
          "name": "stdout",
          "text": [
            "[[6, 14, 17], [12, 15, 15]]\n"
          ]
        }
      ]
    },
    {
      "cell_type": "markdown",
      "source": [
        "# Penugasan 06 - Rata-rata Nilai Mahasiswa"
      ],
      "metadata": {
        "id": "uAayX7P-3Ncu"
      }
    },
    {
      "cell_type": "code",
      "source": [
        "nilai = [\n",
        "    [75, 80, 85],\n",
        "    [60, 70, 65],\n",
        "    [90, 95, 92]\n",
        "]\n",
        "\n",
        "for i, baris in enumerate(nilai, start=1):\n",
        "  rata = sum(baris) / len(baris)\n",
        "  print(f\"Rata-rata mahasiswa {i}: {rata:.2f}\")"
      ],
      "metadata": {
        "colab": {
          "base_uri": "https://localhost:8080/"
        },
        "id": "cPkDLMbe3SJP",
        "outputId": "534603e4-66f3-40cb-9bbc-509b9a15dcb9"
      },
      "execution_count": null,
      "outputs": [
        {
          "output_type": "stream",
          "name": "stdout",
          "text": [
            "Rata-rata mahasiswa 1: 80.00\n",
            "Rata-rata mahasiswa 2: 65.00\n",
            "Rata-rata mahasiswa 3: 92.33\n"
          ]
        }
      ]
    },
    {
      "cell_type": "markdown",
      "source": [
        "# Penugasan 07 - Data Toko"
      ],
      "metadata": {
        "id": "JVXyoRMk3g-S"
      }
    },
    {
      "cell_type": "code",
      "source": [
        "stok = [\n",
        "    [\"Buku\", 20],\n",
        "    [\"Pulpen\", 35],\n",
        "    [\"Penghapus\", 15]\n",
        "]\n",
        "\n",
        "print(\"\\n===== Stok Barang di Toko =====\")\n",
        "for barang in stok:\n",
        "  print(f\"Stok {barang [0]}: {barang[1]}\")\n",
        "\n",
        "barangbanyak = max(stok, key=lambda x: x[1])\n",
        "print(f\"Stok barang terbanyak: {barangbanyak[0]} ({barangbanyak[1]} buah)\")"
      ],
      "metadata": {
        "colab": {
          "base_uri": "https://localhost:8080/"
        },
        "id": "uWW8XpCk3nA5",
        "outputId": "5cea7d7f-21be-4a21-af01-5d3ac5307f2f"
      },
      "execution_count": null,
      "outputs": [
        {
          "output_type": "stream",
          "name": "stdout",
          "text": [
            "\n",
            "===== Stok Barang di Toko =====\n",
            "Stok Buku: 20\n",
            "Stok Pulpen: 35\n",
            "Stok Penghapus: 15\n",
            "Stok barang terbanyak: Pulpen (35 buah)\n"
          ]
        }
      ]
    }
  ]
}