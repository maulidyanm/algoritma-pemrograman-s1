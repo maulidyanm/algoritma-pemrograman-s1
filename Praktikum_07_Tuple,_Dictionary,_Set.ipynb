{
  "nbformat": 4,
  "nbformat_minor": 0,
  "metadata": {
    "colab": {
      "provenance": [],
      "authorship_tag": "ABX9TyNAmMfJVmA8ADBM52D3zOgL",
      "include_colab_link": true
    },
    "kernelspec": {
      "name": "python3",
      "display_name": "Python 3"
    },
    "language_info": {
      "name": "python"
    }
  },
  "cells": [
    {
      "cell_type": "markdown",
      "metadata": {
        "id": "view-in-github",
        "colab_type": "text"
      },
      "source": [
        "<a href=\"https://colab.research.google.com/github/maulidyanm/algoritma-pemrograman-s1/blob/main/Praktikum_07_Tuple%2C_Dictionary%2C_Set.ipynb\" target=\"_parent\"><img src=\"https://colab.research.google.com/assets/colab-badge.svg\" alt=\"Open In Colab\"/></a>"
      ]
    },
    {
      "cell_type": "markdown",
      "source": [
        "# Praktikum 01 - Tuple: Data tetap"
      ],
      "metadata": {
        "id": "Dux_hi3cF-ux"
      }
    },
    {
      "cell_type": "code",
      "execution_count": null,
      "metadata": {
        "colab": {
          "base_uri": "https://localhost:8080/"
        },
        "id": "-aViUt1wF5nv",
        "outputId": "62e5b7df-6c1e-4fa6-f6d0-8fe9d79300c9"
      },
      "outputs": [
        {
          "output_type": "stream",
          "name": "stdout",
          "text": [
            "Lintang:  7.05\n",
            "Bujur:  110.44\n"
          ]
        }
      ],
      "source": [
        "koordinat = (7.05, 110.44)\n",
        "\n",
        "print(\"Lintang: \", koordinat[0])\n",
        "print(\"Bujur: \", koordinat[1])"
      ]
    },
    {
      "cell_type": "markdown",
      "source": [
        "# Praktikum 02 - Dictionary Dasar"
      ],
      "metadata": {
        "id": "u4F1YG5BGzxT"
      }
    },
    {
      "cell_type": "code",
      "source": [
        "mahasiswa = {\n",
        "    \"NIM\": \"20251001\",\n",
        "    \"Nama\": \"Andi\",\n",
        "    \"Prodi\": \"TRK\"\n",
        "}\n",
        "\n",
        "print(\"NIM:\", mahasiswa[\"NIM\"])\n",
        "print(\"Nama:\", mahasiswa[\"Nama\"])\n",
        "print(\"Prodi:\", mahasiswa[\"Prodi\"])"
      ],
      "metadata": {
        "colab": {
          "base_uri": "https://localhost:8080/"
        },
        "id": "jkwLSTKGG24A",
        "outputId": "9949ceb5-cec6-41fc-bd90-a217d238d755"
      },
      "execution_count": null,
      "outputs": [
        {
          "output_type": "stream",
          "name": "stdout",
          "text": [
            "NIM: 20251001\n",
            "Nama: Andi\n",
            "Prodi: TRK\n"
          ]
        }
      ]
    },
    {
      "cell_type": "markdown",
      "source": [
        "# Praktikum 03 - Operasi pada Dictionary\n"
      ],
      "metadata": {
        "id": "vGoYocURHg_0"
      }
    },
    {
      "cell_type": "code",
      "source": [
        "mahasiswa = {\n",
        "    \"NIM\": \"20251001\",\n",
        "    \"Nama\": \"Andi\",\n",
        "    \"Prodi\": \"TRK\"\n",
        "}\n",
        "\n",
        "mahasiswa [\"Umur\"] = 20\n",
        "mahasiswa [\"Prodi\"] = \"Teknik Komputer\"\n",
        "del mahasiswa [\"Umur\"]\n",
        "\n",
        "print(mahasiswa)"
      ],
      "metadata": {
        "colab": {
          "base_uri": "https://localhost:8080/"
        },
        "id": "7LMrOJkaHnGt",
        "outputId": "ce63e243-64ae-4b54-9ffc-4ba97a2f4fad"
      },
      "execution_count": null,
      "outputs": [
        {
          "output_type": "stream",
          "name": "stdout",
          "text": [
            "{'NIM': '20251001', 'Nama': 'Andi', 'Prodi': 'Teknik Komputer'}\n"
          ]
        }
      ]
    },
    {
      "cell_type": "markdown",
      "source": [
        "# Praktikum 04 - Set dan Operasi Himpunan"
      ],
      "metadata": {
        "id": "c4WG1lF2IDfI"
      }
    },
    {
      "cell_type": "code",
      "source": [
        "A = {1, 2, 3, 4}\n",
        "B = {3, 4, 5, 6}\n",
        "\n",
        "print(\"Union:\", A | B)\n",
        "print(\"Intersection:\", A & B)\n",
        "print(\"Difference:\", A - B)"
      ],
      "metadata": {
        "colab": {
          "base_uri": "https://localhost:8080/"
        },
        "id": "R6MHEnUPIH6V",
        "outputId": "9483e2bf-f117-461c-d0cd-0071198d8ed3"
      },
      "execution_count": null,
      "outputs": [
        {
          "output_type": "stream",
          "name": "stdout",
          "text": [
            "Union: {1, 2, 3, 4, 5, 6}\n",
            "Intersection: {3, 4}\n",
            "Difference: {1, 2}\n"
          ]
        }
      ]
    },
    {
      "cell_type": "markdown",
      "source": [
        "# Praktikum 05 - Data Mahasiswa dan Mata Kuliah"
      ],
      "metadata": {
        "id": "ex0AzpL8Ih_N"
      }
    },
    {
      "cell_type": "code",
      "source": [
        "mhs1 = {\"Algoritma\", \"Matematika\", \"Bahasa Inggris\"}\n",
        "mhs2 = {\"Algoritma\", \"Basis Data\", \"Matematika\"}\n",
        "\n",
        "print(\"Mata kuliah Mahasiswa 1: \", mhs1)\n",
        "print(\"Mata kuliah Mahasiswa 2: \", mhs2)\n",
        "print(\"Mata kuliah yang sama: \", mhs1 & mhs2)"
      ],
      "metadata": {
        "colab": {
          "base_uri": "https://localhost:8080/"
        },
        "id": "R7REWRwDImeP",
        "outputId": "844e3f8f-488a-45e9-99df-e367c616d499"
      },
      "execution_count": null,
      "outputs": [
        {
          "output_type": "stream",
          "name": "stdout",
          "text": [
            "Mata kuliah Mahasiswa 1:  {'Bahasa Inggris', 'Algoritma', 'Matematika'}\n",
            "Mata kuliah Mahasiswa 2:  {'Algoritma', 'Matematika', 'Basis Data'}\n",
            "Mata kuliah yang sama:  {'Algoritma', 'Matematika'}\n"
          ]
        }
      ]
    },
    {
      "cell_type": "markdown",
      "source": [
        "# Praktikum 06 - Daftar Nilai Mahasiswa"
      ],
      "metadata": {
        "id": "QquoEu3_JRB7"
      }
    },
    {
      "cell_type": "code",
      "source": [
        "nilai = {\n",
        "  \"Andi\": 80,\n",
        "  \"Budi\": 75,\n",
        "  \"Cici\": 90\n",
        "  }\n",
        "\n",
        "for nama, nnilai in nilai.items():\n",
        "  print(f\"{nama}: {nnilai}\")\n",
        "\n",
        "rata = sum(nilai.values()) / len(nilai)\n",
        "print(f\"Rata-rata nilai: {rata:.2f}\")"
      ],
      "metadata": {
        "colab": {
          "base_uri": "https://localhost:8080/"
        },
        "id": "1syV42vWJYR1",
        "outputId": "5a8dabf8-b337-4a91-d579-ea312f087d8d"
      },
      "execution_count": null,
      "outputs": [
        {
          "output_type": "stream",
          "name": "stdout",
          "text": [
            "Andi: 80\n",
            "Budi: 75\n",
            "Cici: 90\n",
            "Rata-rata nilai: 81.67\n"
          ]
        }
      ]
    },
    {
      "cell_type": "markdown",
      "source": [
        "# Penugasan 01 - Tuple Sederhana"
      ],
      "metadata": {
        "id": "tNbtLOLHSspe"
      }
    },
    {
      "cell_type": "code",
      "source": [
        "data = (\"Maulidya Nurul Muharromah\", 18, \"Teknologi Rekayasa Komputer\")\n",
        "\n",
        "print(\"Nama:\", data[0])\n",
        "print(\"Umur:\", data[1])\n",
        "print(\"Prodi:\", data[2])"
      ],
      "metadata": {
        "colab": {
          "base_uri": "https://localhost:8080/"
        },
        "id": "aL-gLBTvSvLK",
        "outputId": "bb476734-965b-40af-928f-85a6f6fcf3a0"
      },
      "execution_count": null,
      "outputs": [
        {
          "output_type": "stream",
          "name": "stdout",
          "text": [
            "Nama: Maulidya Nurul Muharromah\n",
            "Umur: 18\n",
            "Prodi: Teknologi Rekayasa Komputer\n"
          ]
        }
      ]
    },
    {
      "cell_type": "markdown",
      "source": [
        "# Penugasan 02 - Tuple Tidak Bisa Diubah"
      ],
      "metadata": {
        "id": "Lsz7mvY8TO_M"
      }
    },
    {
      "cell_type": "code",
      "source": [
        "angka = (1, 2, 3)\n",
        "angka[0] = 10\n",
        "\n",
        "print(angka)"
      ],
      "metadata": {
        "colab": {
          "base_uri": "https://localhost:8080/",
          "height": 193
        },
        "id": "emTclWjZTXij",
        "outputId": "0401a5b3-e6a1-42c3-b96a-d49a7760ab57"
      },
      "execution_count": null,
      "outputs": [
        {
          "output_type": "error",
          "ename": "TypeError",
          "evalue": "'tuple' object does not support item assignment",
          "traceback": [
            "\u001b[0;31m---------------------------------------------------------------------------\u001b[0m",
            "\u001b[0;31mTypeError\u001b[0m                                 Traceback (most recent call last)",
            "\u001b[0;32m/tmp/ipython-input-1091047789.py\u001b[0m in \u001b[0;36m<cell line: 0>\u001b[0;34m()\u001b[0m\n\u001b[1;32m      1\u001b[0m \u001b[0mangka\u001b[0m \u001b[0;34m=\u001b[0m \u001b[0;34m(\u001b[0m\u001b[0;36m1\u001b[0m\u001b[0;34m,\u001b[0m \u001b[0;36m2\u001b[0m\u001b[0;34m,\u001b[0m \u001b[0;36m3\u001b[0m\u001b[0;34m)\u001b[0m\u001b[0;34m\u001b[0m\u001b[0;34m\u001b[0m\u001b[0m\n\u001b[0;32m----> 2\u001b[0;31m \u001b[0mangka\u001b[0m\u001b[0;34m[\u001b[0m\u001b[0;36m0\u001b[0m\u001b[0;34m]\u001b[0m \u001b[0;34m=\u001b[0m \u001b[0;36m10\u001b[0m\u001b[0;34m\u001b[0m\u001b[0;34m\u001b[0m\u001b[0m\n\u001b[0m\u001b[1;32m      3\u001b[0m \u001b[0;34m\u001b[0m\u001b[0m\n\u001b[1;32m      4\u001b[0m \u001b[0mprint\u001b[0m\u001b[0;34m(\u001b[0m\u001b[0mangka\u001b[0m\u001b[0;34m)\u001b[0m\u001b[0;34m\u001b[0m\u001b[0;34m\u001b[0m\u001b[0m\n",
            "\u001b[0;31mTypeError\u001b[0m: 'tuple' object does not support item assignment"
          ]
        }
      ]
    },
    {
      "cell_type": "markdown",
      "source": [
        "# Penugasan 03 - Dictionary Dasar"
      ],
      "metadata": {
        "id": "NAPiJcQFT2Ko"
      }
    },
    {
      "cell_type": "code",
      "source": [
        "buku = {\n",
        "    \"Judul\": \"Algoritma\",\n",
        "    \"Penulis\": \"Munir\",\n",
        "    \"Tahun\": 2021\n",
        "}\n",
        "\n",
        "print(\"Judul Buku:\", buku[\"Judul\"])\n",
        "print(\"Nama Penulis:\", buku [\"Penulis\"])\n",
        "print(\"Tahun Terbit:\", buku[\"Tahun\"])"
      ],
      "metadata": {
        "colab": {
          "base_uri": "https://localhost:8080/"
        },
        "id": "LQwQ6_zUT8yY",
        "outputId": "da283c95-38d7-4223-e1a8-d8e074bd3700"
      },
      "execution_count": null,
      "outputs": [
        {
          "output_type": "stream",
          "name": "stdout",
          "text": [
            "Judul Buku: Algoritma\n",
            "Nama Penulis: Munir\n",
            "Tahun Terbit: 2021\n"
          ]
        }
      ]
    },
    {
      "cell_type": "markdown",
      "source": [
        "# Penugasan 04 - Operasi Dictionary"
      ],
      "metadata": {
        "id": "sEgLB9sjUy0E"
      }
    },
    {
      "cell_type": "code",
      "source": [
        "dosen = {\n",
        "    \"NIP\": \"12345\",\n",
        "    \"Nama\": \"Budi\",\n",
        "    \"Prodi\": \"TRK\"\n",
        "}\n",
        "\n",
        "dosen[\"Umur\"] = 40\n",
        "dosen[\"Prodi\"] = \"Tekik Komputer\"\n",
        "del dosen[\"Umur\"]\n",
        "\n",
        "print(dosen)"
      ],
      "metadata": {
        "colab": {
          "base_uri": "https://localhost:8080/"
        },
        "id": "Z5Vq2OMFU2l2",
        "outputId": "c39e7f42-8e3a-4873-c1cc-f34e019f7cb0"
      },
      "execution_count": null,
      "outputs": [
        {
          "output_type": "stream",
          "name": "stdout",
          "text": [
            "{'NIP': '12345', 'Nama': 'Budi', 'Prodi': 'Tekik Komputer'}\n"
          ]
        }
      ]
    },
    {
      "cell_type": "markdown",
      "source": [
        "# Penugasan 05 - Set dan Himpunan"
      ],
      "metadata": {
        "id": "SJjdn-akVjhk"
      }
    },
    {
      "cell_type": "code",
      "source": [
        "A = {\"Matematika\", \"Algoritma\", \"Bahasa Inggris\"}\n",
        "B = {\"Algoritma\", \"Basis Data\", \"Matematika\"}\n",
        "\n",
        "print(\"Union:\", A | B)\n",
        "print(\"Intersection:\", A & B)\n",
        "print(\"Difference:\", A - B)"
      ],
      "metadata": {
        "colab": {
          "base_uri": "https://localhost:8080/"
        },
        "id": "Ci--Y123Vm_g",
        "outputId": "a0927dcf-7028-4ced-f377-95729390efc8"
      },
      "execution_count": null,
      "outputs": [
        {
          "output_type": "stream",
          "name": "stdout",
          "text": [
            "Union: {'Matematika', 'Algoritma', 'Basis Data', 'Bahasa Inggris'}\n",
            "Intersection: {'Matematika', 'Algoritma'}\n",
            "Difference: {'Bahasa Inggris'}\n"
          ]
        }
      ]
    },
    {
      "cell_type": "markdown",
      "source": [
        "# Penugasan 06 - Studi Kasus Dictionary"
      ],
      "metadata": {
        "id": "dJQOwhFOWvWE"
      }
    },
    {
      "cell_type": "code",
      "source": [
        "nilai = {\n",
        "  \"Andi\": 85,\n",
        "  \"Budi\": 90,\n",
        "  \"Cici\": 78\n",
        "  }\n",
        "\n",
        "print(\"\\n===== Daftar Nilai Mahasiswa =====\")\n",
        "for nama, nnilai in nilai.items():\n",
        "  print(f\"{nama}: {nnilai}\")\n",
        "\n",
        "rata = sum(nilai.values()) / len(nilai)\n",
        "print(f\"Rata-rata nilai: {rata:.2f}\")"
      ],
      "metadata": {
        "colab": {
          "base_uri": "https://localhost:8080/"
        },
        "id": "KnvgraKOWy-F",
        "outputId": "293976b2-f8f6-4f3f-e7d3-20a5bea44b8a"
      },
      "execution_count": null,
      "outputs": [
        {
          "output_type": "stream",
          "name": "stdout",
          "text": [
            "\n",
            "===== Daftar Nilai Mahasiswa =====\n",
            "Andi: 85\n",
            "Budi: 90\n",
            "Cici: 78\n",
            "Rata-rata nilai: 84.33\n"
          ]
        }
      ]
    },
    {
      "cell_type": "markdown",
      "source": [
        "# Penugasan 07 - Klub Mahasiswa"
      ],
      "metadata": {
        "id": "FTS3-hf8XEA9"
      }
    },
    {
      "cell_type": "code",
      "source": [
        "KlubA = {\"Andi\", \"Budi\", \"Cici\"}\n",
        "KlubB = {\"Cici\", \"Deni\", \"Eka\"}\n",
        "\n",
        "print(\"Dafta Anggota Klub: \", KlubA | KlubB)\n",
        "print(\"Daftar Anggota yang ada di Kedua Klub: \", KlubA & KlubB)\n",
        "print(\"Daftar Anggota yang hanya ada di klub A: \", KlubA - KlubB)"
      ],
      "metadata": {
        "colab": {
          "base_uri": "https://localhost:8080/"
        },
        "id": "pSn75xdPXHms",
        "outputId": "0b0f9b3d-d714-4944-f366-1a41ca5baa98"
      },
      "execution_count": null,
      "outputs": [
        {
          "output_type": "stream",
          "name": "stdout",
          "text": [
            "Dafta Anggota Klub:  {'Budi', 'Eka', 'Cici', 'Deni', 'Andi'}\n",
            "Daftar Anggota yang ada di Kedua Klub:  {'Cici'}\n",
            "Daftar Anggota yang hanya ada di klub A:  {'Budi', 'Andi'}\n"
          ]
        }
      ]
    }
  ]
}