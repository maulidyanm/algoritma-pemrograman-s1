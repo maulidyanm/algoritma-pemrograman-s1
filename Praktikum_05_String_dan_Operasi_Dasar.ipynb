{
  "nbformat": 4,
  "nbformat_minor": 0,
  "metadata": {
    "colab": {
      "provenance": [],
      "authorship_tag": "ABX9TyPlXVdt6DfUTUvOEYxmWyId",
      "include_colab_link": true
    },
    "kernelspec": {
      "name": "python3",
      "display_name": "Python 3"
    },
    "language_info": {
      "name": "python"
    }
  },
  "cells": [
    {
      "cell_type": "markdown",
      "metadata": {
        "id": "view-in-github",
        "colab_type": "text"
      },
      "source": [
        "<a href=\"https://colab.research.google.com/github/maulidyanm/algoritma-pemrograman-s1/blob/main/Praktikum_05_String_dan_Operasi_Dasar.ipynb\" target=\"_parent\"><img src=\"https://colab.research.google.com/assets/colab-badge.svg\" alt=\"Open In Colab\"/></a>"
      ]
    },
    {
      "cell_type": "markdown",
      "source": [
        "# Praktikum 01 - Indexing dan Slicing"
      ],
      "metadata": {
        "id": "eMujqYTvoAZg"
      }
    },
    {
      "cell_type": "code",
      "execution_count": null,
      "metadata": {
        "colab": {
          "base_uri": "https://localhost:8080/"
        },
        "id": "fTqovQsQnKJM",
        "outputId": "96dee13c-070e-4aad-c094-f0bc41ad7dbf"
      },
      "outputs": [
        {
          "output_type": "stream",
          "name": "stdout",
          "text": [
            "P\n",
            "Politeknik \n",
            "Semarang\n"
          ]
        }
      ],
      "source": [
        "teks = \"Politeknik Negeri Semarang\"\n",
        "print(teks[0])  # 'P'\n",
        "print(teks[0:11]) # 'Politeknik'\n",
        "print(teks[-8:])  # 'Semarang'"
      ]
    },
    {
      "cell_type": "markdown",
      "source": [
        "# Praktikum 02 - Method Bawaan String"
      ],
      "metadata": {
        "id": "I4xgRBx0tnZ-"
      }
    },
    {
      "cell_type": "code",
      "source": [
        "teks = \" Politeknik Negeri Semarang \"\n",
        "print(teks.upper())\n",
        "print(teks.lower())\n",
        "print(teks.title())\n",
        "print(teks.strip())\n",
        "print(teks.split())\n",
        "print(\"-\".join([\"Politeknik\", \"Negeri\", \"Semarang\"]))"
      ],
      "metadata": {
        "colab": {
          "base_uri": "https://localhost:8080/"
        },
        "id": "Fg7IK45btr6d",
        "outputId": "40cd38c3-faae-4141-99af-64349aeb6567"
      },
      "execution_count": null,
      "outputs": [
        {
          "output_type": "stream",
          "name": "stdout",
          "text": [
            " POLITEKNIK NEGERI SEMARANG \n",
            " politeknik negeri semarang \n",
            " Politeknik Negeri Semarang \n",
            "Politeknik Negeri Semarang\n",
            "['Politeknik', 'Negeri', 'Semarang']\n",
            "Politeknik-Negeri-Semarang\n"
          ]
        }
      ]
    },
    {
      "cell_type": "markdown",
      "source": [
        "# Praktikum 03 - Validasi Password"
      ],
      "metadata": {
        "id": "CGTzrbfXuZD9"
      }
    },
    {
      "cell_type": "code",
      "source": [
        "password = input(\"Masukkan password: \")\n",
        "\n",
        "if len(password) > 8:\n",
        "  print(\"Password valid\")\n",
        "else:\n",
        "  print(\"Password terlalu pendek\")"
      ],
      "metadata": {
        "colab": {
          "base_uri": "https://localhost:8080/"
        },
        "id": "NzIVxJ7nub_C",
        "outputId": "93b9401f-80c5-4593-c050-a8c191938903"
      },
      "execution_count": null,
      "outputs": [
        {
          "output_type": "stream",
          "name": "stdout",
          "text": [
            "Masukkan password: abc\n",
            "Password terlalu pendek\n"
          ]
        }
      ]
    },
    {
      "cell_type": "markdown",
      "source": [
        "# Praktikum 04 - String Formatting dengan F-String"
      ],
      "metadata": {
        "id": "lx7Zj_equ51R"
      }
    },
    {
      "cell_type": "code",
      "source": [
        "nama = input(\"Masukkan nama: \")\n",
        "umur = int(input(\"Masukkan umur: \"))\n",
        "\n",
        "print(f\"Nama saya {nama}, umur {umur} tahun\")"
      ],
      "metadata": {
        "colab": {
          "base_uri": "https://localhost:8080/"
        },
        "id": "ht6O5RfJu_QU",
        "outputId": "c24fb914-47cf-46f4-ef10-cf87ae54dcab"
      },
      "execution_count": null,
      "outputs": [
        {
          "output_type": "stream",
          "name": "stdout",
          "text": [
            "Masukkan nama: Budi\n",
            "Masukkan umur: 21\n",
            "Nama saya Budi, umur 21 tahun\n"
          ]
        }
      ]
    },
    {
      "cell_type": "markdown",
      "source": [
        "# Praktikum 05 - Operasi dalam F-String"
      ],
      "metadata": {
        "id": "UE8DKCITvW7x"
      }
    },
    {
      "cell_type": "code",
      "source": [
        "a = int(input(\"Masukka nilai a: \"))\n",
        "b = int(input(\"Masukkan nilai b: \"))\n",
        "\n",
        "print(f\"Hasil penjumlahan {a} + {b} = {a+b}\")\n",
        "print(f\"Hasil pembagian {a} / {b} = {a/b:.2f}\")"
      ],
      "metadata": {
        "colab": {
          "base_uri": "https://localhost:8080/"
        },
        "id": "QyKVo4ZkvaFq",
        "outputId": "d24c112d-4243-4278-b1c4-df93a1cd30f4"
      },
      "execution_count": null,
      "outputs": [
        {
          "output_type": "stream",
          "name": "stdout",
          "text": [
            "Masukka nilai a: 10\n",
            "Masukkan nilai b: 3\n",
            "Hasil penjumlahan 10 + 3 = 13\n",
            "Hasil pembagian 10 / 3 = 3.33\n"
          ]
        }
      ]
    },
    {
      "cell_type": "markdown",
      "source": [
        "# Praktikum 06 - Casting String"
      ],
      "metadata": {
        "id": "A-cdS5Lwv7Y7"
      }
    },
    {
      "cell_type": "code",
      "source": [
        "angka = 123\n",
        "teks = \"456\"\n",
        "\n",
        "print(\"Nilai: \" + str(angka))\n",
        "print(int(teks) + 10)"
      ],
      "metadata": {
        "colab": {
          "base_uri": "https://localhost:8080/"
        },
        "id": "5hnb-x3lv-GA",
        "outputId": "bcc925c7-1778-496f-96d0-8255709bc5cb"
      },
      "execution_count": null,
      "outputs": [
        {
          "output_type": "stream",
          "name": "stdout",
          "text": [
            "Nilai: 123\n",
            "466\n"
          ]
        }
      ]
    },
    {
      "cell_type": "markdown",
      "source": [
        "# Praktikum 07 - Studi Kasus Nyata: Analisis Kalimat"
      ],
      "metadata": {
        "id": "N6CPm0jvwlDv"
      }
    },
    {
      "cell_type": "code",
      "source": [
        "kalimat = \"Saya Kuliah di Politeknik Negeri Semarang\"\n",
        "daftar_kata = kalimat.split(\" \")\n",
        "\n",
        "print(f\"Jumlah kata: {len(daftar_kata)}\")\n",
        "for i, kata in enumerate(daftar_kata, start=1):\n",
        "  print(i, kata)"
      ],
      "metadata": {
        "colab": {
          "base_uri": "https://localhost:8080/"
        },
        "id": "1wFzKbVwwqXe",
        "outputId": "f2767854-6f31-4897-a897-cb53a682fb6d"
      },
      "execution_count": null,
      "outputs": [
        {
          "output_type": "stream",
          "name": "stdout",
          "text": [
            "Jumlah kata: 6\n",
            "1 Saya\n",
            "2 Kuliah\n",
            "3 di\n",
            "4 Politeknik\n",
            "5 Negeri\n",
            "6 Semarang\n"
          ]
        }
      ]
    },
    {
      "cell_type": "markdown",
      "source": [
        "# Penugasan 01 - Indexing dan Slicing"
      ],
      "metadata": {
        "id": "zb5oziMW6SH7"
      }
    },
    {
      "cell_type": "code",
      "source": [
        "teks = \"Politeknik Negeri Semarang\"\n",
        "\n",
        "print(teks[0])\n",
        "print(teks[-1])\n",
        "print(teks[11:17])"
      ],
      "metadata": {
        "colab": {
          "base_uri": "https://localhost:8080/"
        },
        "id": "3dcDR4uX6VU-",
        "outputId": "4b263811-280b-4245-80b2-54b13a2209c1"
      },
      "execution_count": null,
      "outputs": [
        {
          "output_type": "stream",
          "name": "stdout",
          "text": [
            "P\n",
            "g\n",
            "Negeri\n"
          ]
        }
      ]
    },
    {
      "cell_type": "markdown",
      "source": [
        "# Penugasan 02 - Manipulasi String"
      ],
      "metadata": {
        "id": "O3W089rZ6-UQ"
      }
    },
    {
      "cell_type": "code",
      "source": [
        "kalimat = input(\"Tuliskan sebuah kalimat: \")\n",
        "\n",
        "print(kalimat.upper())\n",
        "print(kalimat.lower())\n",
        "print(len(kalimat))"
      ],
      "metadata": {
        "colab": {
          "base_uri": "https://localhost:8080/"
        },
        "id": "lRfRfmqt7Bs0",
        "outputId": "6a74da52-67c6-4720-8525-1d1d64e37389"
      },
      "execution_count": null,
      "outputs": [
        {
          "output_type": "stream",
          "name": "stdout",
          "text": [
            "Tuliskan sebuah kalimat: Maulidya Nurul Muharromah\n",
            "MAULIDYA NURUL MUHARROMAH\n",
            "maulidya nurul muharromah\n",
            "25\n"
          ]
        }
      ]
    },
    {
      "cell_type": "markdown",
      "source": [
        "# Penugasan 02 - Validasi Username"
      ],
      "metadata": {
        "id": "33_u97gP8NdK"
      }
    },
    {
      "cell_type": "code",
      "source": [
        "username = input(\"Masukkan username: \")\n",
        "\n",
        "if \" \" in username:\n",
        "  print(f\"{username} tidak bisa digunakan, username tidak boleh mengandung spasi\")\n",
        "else:\n",
        "  print(f\"{username} valid\")"
      ],
      "metadata": {
        "colab": {
          "base_uri": "https://localhost:8080/"
        },
        "id": "5cwFx8mg8Q1-",
        "outputId": "fcc332b2-7a31-4478-d43a-1ec24707f47b"
      },
      "execution_count": null,
      "outputs": [
        {
          "output_type": "stream",
          "name": "stdout",
          "text": [
            "Masukkan username: maulidya12\n",
            "maulidya12 valid\n"
          ]
        }
      ]
    },
    {
      "cell_type": "markdown",
      "source": [
        "# Penugasan 03 - String Formatting"
      ],
      "metadata": {
        "id": "nn1D1b-k9P-B"
      }
    },
    {
      "cell_type": "code",
      "source": [
        "nama = input(\"Masukkan nama mahasiswa: \")\n",
        "umur = int(input(\"Masukkan umur mahasiswa: \"))\n",
        "jurusan = input(\"Masukkan jurusan mahasiswa: \")\n",
        "\n",
        "print(f\"Nama mahasiswa: {nama}\")\n",
        "print(f\"Umur mahasiswa: {umur}\")\n",
        "print(f\"Jurusam mahasiswa: {jurusan}\")"
      ],
      "metadata": {
        "colab": {
          "base_uri": "https://localhost:8080/"
        },
        "id": "MQszIVp-9U2O",
        "outputId": "bde17ebd-0af5-42f8-c02a-f79153652987"
      },
      "execution_count": null,
      "outputs": [
        {
          "output_type": "stream",
          "name": "stdout",
          "text": [
            "Masukkan nama mahasiswa: dya\n",
            "Masukkan umur mahasiswa: 18\n",
            "Masukkan jurusan mahasiswa: teknik elektro\n",
            "Nama mahasiswa: dya\n",
            "Umur mahasiswa: 18\n",
            "Jurusam mahasiswa: teknik elektro\n"
          ]
        }
      ]
    },
    {
      "cell_type": "markdown",
      "source": [
        "# Penugasan 04 - Operasi dalam F-String"
      ],
      "metadata": {
        "id": "xvfG4Kmb94CN"
      }
    },
    {
      "cell_type": "code",
      "source": [
        "a = int(input(\"Masukkan angka pertama: \"))\n",
        "b = int(input(\"Masukkan angka kedua: \"))\n",
        "\n",
        "print(f\"Hasil penjumlahan dari {a} dan {b} adalah {a + b}\")\n",
        "print(f\"Hasil perkalian dari {a} dan {b} adalah {a * b}\")\n",
        "print(f\"Hasil pembagian dari {a} dan {b} adalah {a / b:.3f}\")"
      ],
      "metadata": {
        "colab": {
          "base_uri": "https://localhost:8080/"
        },
        "id": "FIdJ3HQ098Rx",
        "outputId": "c33d4be5-f915-48de-ea09-4b4cb88a7baf"
      },
      "execution_count": null,
      "outputs": [
        {
          "output_type": "stream",
          "name": "stdout",
          "text": [
            "Masukkan angka pertama: 20\n",
            "Masukkan angka kedua: 5\n",
            "Hasil penjumlahan dari 20 dan 5 adalah 25\n",
            "Hasil perkalian dari 20 dan 5 adalah 100\n",
            "Hasil pembagian dari 20 dan 5 adalah 4.000\n"
          ]
        }
      ]
    },
    {
      "cell_type": "markdown",
      "source": [
        "# Penugasan 05 - Casting Data"
      ],
      "metadata": {
        "id": "DCCqWaY--zjq"
      }
    },
    {
      "cell_type": "code",
      "source": [
        "bilangan = input(\"Masukkan sebuah angka: \")\n",
        "\n",
        "angka = int(bilangan)\n",
        "kuadrat = angka ** 2\n",
        "angka1 = float(bilangan)\n",
        "\n",
        "print(f\"Akar kuadrat dari {bilangan} adalah {kuadrat}\")\n",
        "print(f\"Angka dalam bentuk float (2 angka di belakang koma: {angka1:.2f})\")"
      ],
      "metadata": {
        "colab": {
          "base_uri": "https://localhost:8080/"
        },
        "id": "p-v7yulS-4Yr",
        "outputId": "0b9a72f3-9171-4fa9-acff-0d4f5ab70ec2"
      },
      "execution_count": null,
      "outputs": [
        {
          "output_type": "stream",
          "name": "stdout",
          "text": [
            "Masukkan sebuah angka: 7\n",
            "Akar kuadrat dari 7 adalah 49\n",
            "Angka dalam bentuk float (2 angka di belakang koma: 7.00)\n"
          ]
        }
      ]
    },
    {
      "cell_type": "markdown",
      "source": [
        "# Penugasan 06 - Analisis Teks"
      ],
      "metadata": {
        "id": "fldqKLmd_rrZ"
      }
    },
    {
      "cell_type": "code",
      "source": [
        "print(\"\\n====== Analisis Kalimat ======\")\n",
        "teks = input(\"Masukkan kalimat anda: \")\n",
        "\n",
        "katalist = teks.split()\n",
        "jumlahkata = len(katalist)\n",
        "katapanjang = max(katalist, key=len)\n",
        "kataurut = sorted(katalist)\n",
        "\n",
        "print(f\"Jumlah kata: {jumlahkata}\")\n",
        "print(f\"Kata terpanjang: {katapanjang}\")\n",
        "print(f\"Daftar kata urut abjad: {kataurut}\")"
      ],
      "metadata": {
        "colab": {
          "base_uri": "https://localhost:8080/"
        },
        "id": "V1pR-hcw_wZi",
        "outputId": "3ced6fcc-d9c0-40f9-c14c-ec08aed661c2"
      },
      "execution_count": null,
      "outputs": [
        {
          "output_type": "stream",
          "name": "stdout",
          "text": [
            "\n",
            "====== Analisis Kalimat ======\n",
            "Masukkan kalimat anda: beli buah di pasar legi\n",
            "Jumlah kata: 5\n",
            "Kata terpanjang: pasar\n",
            "Daftar kata urut abjad: ['beli', 'buah', 'di', 'legi', 'pasar']\n"
          ]
        }
      ]
    }
  ]
}