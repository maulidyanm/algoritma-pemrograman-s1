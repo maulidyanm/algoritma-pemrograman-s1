{
  "nbformat": 4,
  "nbformat_minor": 0,
  "metadata": {
    "colab": {
      "provenance": [],
      "authorship_tag": "ABX9TyPXiQWGmEGrDV+sjF5FEETx",
      "include_colab_link": true
    },
    "kernelspec": {
      "name": "python3",
      "display_name": "Python 3"
    },
    "language_info": {
      "name": "python"
    }
  },
  "cells": [
    {
      "cell_type": "markdown",
      "metadata": {
        "id": "view-in-github",
        "colab_type": "text"
      },
      "source": [
        "<a href=\"https://colab.research.google.com/github/maulidyanm/algoritma-pemrograman-s1/blob/main/Jobsheet_3_Percabangan.ipynb\" target=\"_parent\"><img src=\"https://colab.research.google.com/assets/colab-badge.svg\" alt=\"Open In Colab\"/></a>"
      ]
    },
    {
      "cell_type": "markdown",
      "source": [
        "# Praktikum 01 - If Sederhana"
      ],
      "metadata": {
        "id": "Stq42oE84nwc"
      }
    },
    {
      "cell_type": "code",
      "execution_count": null,
      "metadata": {
        "colab": {
          "base_uri": "https://localhost:8080/"
        },
        "id": "gKxJ_TWa4Tmb",
        "outputId": "4861fbff-71c2-490e-d743-247ee94bbb4f"
      },
      "outputs": [
        {
          "output_type": "stream",
          "name": "stdout",
          "text": [
            "Masukkan nilai ujian: 70\n",
            "Anda LULUS\n"
          ]
        }
      ],
      "source": [
        "nilai = int(input(\"Masukkan nilai ujian: \"))\n",
        "if nilai >= 60:\n",
        "  print(\"Anda LULUS\")"
      ]
    },
    {
      "cell_type": "markdown",
      "source": [
        "# Praktikum 02 - If-Else"
      ],
      "metadata": {
        "id": "WyEYZON25My-"
      }
    },
    {
      "cell_type": "code",
      "source": [
        "nilai = int(input(\"Masukkan nilai ujian: \"))\n",
        "if nilai >= 60:\n",
        "  print(\"Anda LULUS\")\n",
        "else:\n",
        "  print(\"Anda TIDAK LULUS\")"
      ],
      "metadata": {
        "colab": {
          "base_uri": "https://localhost:8080/"
        },
        "id": "EiMX66kb5LRd",
        "outputId": "eb92d666-10a0-4c53-8c7a-2eda5e715912"
      },
      "execution_count": null,
      "outputs": [
        {
          "output_type": "stream",
          "name": "stdout",
          "text": [
            "Masukkan nilai ujian: 50\n",
            "Anda TIDAK LULUS\n"
          ]
        }
      ]
    },
    {
      "cell_type": "markdown",
      "source": [
        "# Praktikum 03 - If-Elif-Else"
      ],
      "metadata": {
        "id": "MPLVRUAL5kQm"
      }
    },
    {
      "cell_type": "code",
      "source": [
        "nilai = int(input(\"Masukkan nilai akhir: \"))\n",
        "\n",
        "if nilai >= 85:\n",
        "  grade = \"A\"\n",
        "elif nilai >= 70:\n",
        "  grade = \"B\"\n",
        "elif nilai >= 55:\n",
        "  grade = \"C\"\n",
        "elif nilai >= 40:\n",
        "  grade = \"D\"\n",
        "else:\n",
        "  grade = \"E\"\n",
        "\n",
        "print(f\"Nilai anda adalah {nilai}, grade anda = {grade}\")"
      ],
      "metadata": {
        "colab": {
          "base_uri": "https://localhost:8080/"
        },
        "id": "hUCbh0Z55pEu",
        "outputId": "a99ed339-a443-4857-a0b3-a0149865e6a5"
      },
      "execution_count": null,
      "outputs": [
        {
          "output_type": "stream",
          "name": "stdout",
          "text": [
            "Masukkan nilai akhir: 78\n",
            "Nilai anda adalah 78, grade anda = B\n"
          ]
        }
      ]
    },
    {
      "cell_type": "markdown",
      "source": [
        "# Praktikum 04 - Nested If"
      ],
      "metadata": {
        "id": "w4Sao7u-6c9j"
      }
    },
    {
      "cell_type": "code",
      "source": [
        "ipk = float(input(\"Masukkan IPK mahasiswa: \"))\n",
        "sks = int(input(\"Masukkan jumlah sks: \"))\n",
        "\n",
        "if ipk >= 3.0:\n",
        "  if sks >= 18:\n",
        "    print(\"Anda layak mendapat mendapat beasiswa\")\n",
        "  else:\n",
        "    print(\"IPK memenuhi, tetapi SKS kurang\")\n",
        "else:\n",
        "  print(\"Anda tidak layak medapat beasiswa\")"
      ],
      "metadata": {
        "colab": {
          "base_uri": "https://localhost:8080/"
        },
        "id": "KtxGODKi6f-m",
        "outputId": "752df4ce-c562-4321-d856-6e6da81e7f6a"
      },
      "execution_count": null,
      "outputs": [
        {
          "output_type": "stream",
          "name": "stdout",
          "text": [
            "Masukkan IPK mahasiswa: 2.8\n",
            "Masukkan jumlah sks: 20\n",
            "Anda tidak layak medapat beasiswa\n"
          ]
        }
      ]
    },
    {
      "cell_type": "markdown",
      "source": [
        "# Praktikum 05 - Math-Case"
      ],
      "metadata": {
        "id": "JPQ_F6fD7XtW"
      }
    },
    {
      "cell_type": "code",
      "source": [
        "menu = int(input(\"Pilih menu (1-3): \"))\n",
        "\n",
        "match menu:\n",
        "  case 1:\n",
        "    print(\"Anda memilih menu Nasi Goreng\")\n",
        "  case 2:\n",
        "    print(\"Anda memilih Mie Ayam\")\n",
        "  case 3:\n",
        "    print(\"Anda memilih Soto Ayam\")\n",
        "  case _:\n",
        "    print(\"Menu tidak tersedia\")"
      ],
      "metadata": {
        "colab": {
          "base_uri": "https://localhost:8080/"
        },
        "id": "-8sS_eDz7Tzu",
        "outputId": "850a74cc-9e29-4aca-da52-67eb00179690"
      },
      "execution_count": null,
      "outputs": [
        {
          "output_type": "stream",
          "name": "stdout",
          "text": [
            "Pilih menu (1-3): 9\n",
            "Menu tidak tersedia\n"
          ]
        }
      ]
    },
    {
      "cell_type": "markdown",
      "source": [
        "# Praktikum 06 - Studi Kasus: Program Kasir"
      ],
      "metadata": {
        "id": "SwpyAH_U8cm6"
      }
    },
    {
      "cell_type": "code",
      "source": [
        "barang = input(\"Masukkan nama barang: \")\n",
        "harga = float(input(\"Masukkan harga barang: \"))\n",
        "jumlah = int(input(\"Masukkan jumlah barang: \"))\n",
        "\n",
        "total = harga * jumlah\n",
        "if total >= 500000:\n",
        "  diskon = 0.2\n",
        "elif total >= 250000:\n",
        "  diskon = 0.1\n",
        "else:\n",
        "  diskon = 0\n",
        "\n",
        "bayar = total - (total * diskon)\n",
        "\n",
        "print(\"\\n====== Struk Belanja ======\")\n",
        "print(f\"Barang anda: {barang}\")\n",
        "print(f\"Jumlah anda: {jumlah}\")\n",
        "print(f\"Total anda: {total}\")\n",
        "print(f\"Diskon anda: Rp {diskon * 100}%\")\n",
        "print(f\"Anda harus membayar sebesar: Rp {bayar}\")"
      ],
      "metadata": {
        "colab": {
          "base_uri": "https://localhost:8080/"
        },
        "id": "56Jj35DY8jLq",
        "outputId": "42b2ffb8-3c0a-406a-d082-b86fe6f4bcaf"
      },
      "execution_count": null,
      "outputs": [
        {
          "output_type": "stream",
          "name": "stdout",
          "text": [
            "Masukkan nama barang: pulpen\n",
            "Masukkan harga barang: 5000\n",
            "Masukkan jumlah barang: 10\n",
            "\n",
            "====== Struk Belanja ======\n",
            "Barang anda: pulpen\n",
            "Jumlah anda: 10\n",
            "Total anda: 50000.0\n",
            "Diskon anda: Rp 0%\n",
            "Anda harus membayar sebesar: Rp 50000.0\n"
          ]
        }
      ]
    },
    {
      "cell_type": "markdown",
      "source": [
        "# Penugasan 01 - Cek Bilangan"
      ],
      "metadata": {
        "id": "F4XRZt3s-448"
      }
    },
    {
      "cell_type": "code",
      "source": [
        "angka = 0\n",
        "\n",
        "if angka > 0:\n",
        "  print(\"Bilangan adalah bilangan positif\")\n",
        "elif angka < 0:\n",
        "  print(\"Bilangan adalah bilangan negatif\")\n",
        "else:\n",
        "  print(\"Bilangan adalah nol\")"
      ],
      "metadata": {
        "colab": {
          "base_uri": "https://localhost:8080/"
        },
        "id": "JYuheTQA-9Kk",
        "outputId": "37745243-841d-4649-aeb1-bafd7baadc89"
      },
      "execution_count": null,
      "outputs": [
        {
          "output_type": "stream",
          "name": "stdout",
          "text": [
            "Bilangan adalah nol\n"
          ]
        }
      ]
    },
    {
      "cell_type": "markdown",
      "source": [
        "# Penugasan 02 - Menentukan Kategori Usia"
      ],
      "metadata": {
        "id": "vmbbBSR-ApGZ"
      }
    },
    {
      "cell_type": "code",
      "source": [
        "umur = int(input(\"Masukkan umur: \"))\n",
        "\n",
        "if umur > 0 and umur < 5 :\n",
        "  kategori = \"Balita\"\n",
        "elif umur >= 5 and umur <= 11:\n",
        "  kategori = \"Anak-anak\"\n",
        "elif umur >= 12 and umur <= 17:\n",
        "  kategori = \"Remaja\"\n",
        "elif umur >= 18 and umur <= 59:\n",
        "  kategori = \"Dewasa\"\n",
        "elif umur >= 60:\n",
        "  kategori = \"Lansia\"\n",
        "else:\n",
        "  kategori = \"Tidak ada, masukkan umur anda dengan benar\"\n",
        "\n",
        "print(f\"Umur anda adalah {umur} dan kategori umur anda adalah {kategori}\")"
      ],
      "metadata": {
        "colab": {
          "base_uri": "https://localhost:8080/"
        },
        "id": "MXxgUsBt_D1d",
        "outputId": "a3f5e1ff-7210-4813-d5dd-3a96ddf098d1"
      },
      "execution_count": null,
      "outputs": [
        {
          "output_type": "stream",
          "name": "stdout",
          "text": [
            "Masukkan umur: 12\n",
            "Umur anda adalah 12 dan kategori umur anda adalah Remaja\n"
          ]
        }
      ]
    },
    {
      "cell_type": "markdown",
      "source": [
        "# Penugasan 03 - Tarif Parkir"
      ],
      "metadata": {
        "id": "BprUg1eUCycb"
      }
    },
    {
      "cell_type": "code",
      "source": [
        "parkir = int(input(\"Masukkan lama kendaraan terparkir (jam): \"))\n",
        "\n",
        "if parkir <= 2:\n",
        "  tarif = 5000\n",
        "else:\n",
        "  tarif = 5000 + (parkir - 2) * 2000\n",
        "\n",
        "#batas\n",
        "if tarif > 20000:\n",
        "  tarif = 20000\n",
        "\n",
        "print(\"Tarif parkir kendaraan anda adalah: \", tarif)"
      ],
      "metadata": {
        "colab": {
          "base_uri": "https://localhost:8080/"
        },
        "id": "HERHO4FLC-J4",
        "outputId": "b93ed695-320b-492b-9824-1d102a05658d"
      },
      "execution_count": null,
      "outputs": [
        {
          "output_type": "stream",
          "name": "stdout",
          "text": [
            "Masukkan lama kendaraan terparkir (jam): 3\n",
            "Tarif parkir kendaraan anda adalah:  7000\n"
          ]
        }
      ]
    },
    {
      "cell_type": "markdown",
      "source": [
        "# Penugasan 04 - Login Sederhana"
      ],
      "metadata": {
        "id": "Iq5W6O2WFO_O"
      }
    },
    {
      "cell_type": "code",
      "source": [
        "username = input(\"Masukkan username: \")\n",
        "password = input(\"Masukkan password: \")\n",
        "\n",
        "if username == \"admin\" and password == \"1234\":\n",
        "  print(\"Login Berhasil\")\n",
        "else:\n",
        "  print(\"Login Gagal\")"
      ],
      "metadata": {
        "colab": {
          "base_uri": "https://localhost:8080/"
        },
        "id": "Z2dwZyn_FrxG",
        "outputId": "107b1a22-2cf2-4414-efa2-27d6a4de63e0"
      },
      "execution_count": null,
      "outputs": [
        {
          "output_type": "stream",
          "name": "stdout",
          "text": [
            "Masukkan username: maulidya\n",
            "Masukkan password: maulidya12\n",
            "Login Gagal\n"
          ]
        }
      ]
    },
    {
      "cell_type": "markdown",
      "source": [
        "# Penugasan 05 - One-Liner If"
      ],
      "metadata": {
        "id": "ckQqjqqzGuVA"
      }
    },
    {
      "cell_type": "code",
      "source": [
        "bilangan = int(input(\"Masukkan bilangan: \"))\n",
        "hasil = \"Genap\" if bilangan % 2 == 0 else \"Ganjil\"\n",
        "print(\"Bilangan tersebut adalah\", hasil)"
      ],
      "metadata": {
        "colab": {
          "base_uri": "https://localhost:8080/"
        },
        "id": "EnH6l5IlHUIN",
        "outputId": "c514e276-000f-4ffc-fc7b-d9084a40b37b"
      },
      "execution_count": null,
      "outputs": [
        {
          "output_type": "stream",
          "name": "stdout",
          "text": [
            "Masukkan bilangan: 0\n",
            "Bilangan tersebut adalah Genap\n"
          ]
        }
      ]
    },
    {
      "cell_type": "markdown",
      "source": [
        "# Penugasan 06 - Menu Restoran"
      ],
      "metadata": {
        "id": "qJ9Vos7mIG-E"
      }
    },
    {
      "cell_type": "code",
      "source": [
        "menu = int(input(\"Masukkan pilhan menu (1-3): \"))\n",
        "\n",
        "match menu:\n",
        "  case 1:\n",
        "    print(\"Pilihan menu anda adalah Nasi Goreng\")\n",
        "  case 2:\n",
        "    print(\"Pilihan menu anda adalah Mie Ayam\")\n",
        "  case 3:\n",
        "    print(\"Pilihan menu anda adalah Soto Ayam\")\n",
        "  case _:\n",
        "    print(\"Menu Tidak tersedia\")"
      ],
      "metadata": {
        "colab": {
          "base_uri": "https://localhost:8080/"
        },
        "id": "mzJs0vYuIMt1",
        "outputId": "0ce06c61-3afc-4d1e-bba3-1b855bf5fdae"
      },
      "execution_count": null,
      "outputs": [
        {
          "output_type": "stream",
          "name": "stdout",
          "text": [
            "Masukkan pilhan menu (1-3): 1\n",
            "Pilihan menu anda adalah Nasi Goreng\n"
          ]
        }
      ]
    },
    {
      "cell_type": "markdown",
      "source": [
        "# Penugasan 07 - Program Penentuan Diskon"
      ],
      "metadata": {
        "id": "VxH7VQJ0JDo1"
      }
    },
    {
      "cell_type": "code",
      "source": [
        "barang = input(\"Masukkan nama barang: \")\n",
        "harga = float(input(\"Masukkan harga barang: \"))\n",
        "jumlah = int(input(\"Masukkan jumlah barang: \"))\n",
        "\n",
        "total = harga * jumlah\n",
        "if total >= 500000:\n",
        "  diskon = 0.2\n",
        "elif total >= 250000:\n",
        "  diskon = 0.1\n",
        "else:\n",
        "  diskon = 0\n",
        "\n",
        "bayar = total - (total * diskon)\n",
        "\n",
        "print(\"\\n====== Struk Belanja ======\")\n",
        "print(f\"Barang anda: {barang}\")\n",
        "print(f\"Jumlah anda: {jumlah}\")\n",
        "print(f\"Total anda: {total}\")\n",
        "print(f\"Diskon anda: Rp {diskon * 100}%\")\n",
        "print(f\"Anda harus membayar sebesar: Rp {bayar}\")"
      ],
      "metadata": {
        "colab": {
          "base_uri": "https://localhost:8080/"
        },
        "id": "9B3LJKgtJHxM",
        "outputId": "761fe0b7-7371-4ac4-8ada-594f440f5bb1"
      },
      "execution_count": null,
      "outputs": [
        {
          "output_type": "stream",
          "name": "stdout",
          "text": [
            "Masukkan nama barang: sepatu\n",
            "Masukkan harga barang: 200000\n",
            "Masukkan jumlah barang: 1\n",
            "\n",
            "====== Struk Belanja ======\n",
            "Barang anda: sepatu\n",
            "Jumlah anda: 1\n",
            "Total anda: 200000.0\n",
            "Diskon anda: Rp 0%\n",
            "Anda harus membayar sebesar: Rp 200000.0\n"
          ]
        }
      ]
    }
  ]
}